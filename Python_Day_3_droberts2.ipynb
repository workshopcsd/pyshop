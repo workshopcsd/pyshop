{
 "cells": [
  {
   "cell_type": "markdown",
   "metadata": {
    "slideshow": {
     "slide_type": "slide"
    }
   },
   "source": [
    "#Python Day 3\n",
    "##File I/O and String Manipulation"
   ]
  },
  {
   "cell_type": "markdown",
   "metadata": {
    "slideshow": {
     "slide_type": "slide"
    }
   },
   "source": [
    "##Modules\n",
    "\n",
    "* Basically any piece of Python code ending in .py could be considered a module\n",
    "* ...But that can have some odd effects"
   ]
  },
  {
   "cell_type": "markdown",
   "metadata": {
    "slideshow": {
     "slide_type": "slide"
    }
   },
   "source": [
    "#What Are Modules?"
   ]
  },
  {
   "cell_type": "code",
   "execution_count": 1,
   "metadata": {
    "scrolled": true
   },
   "outputs": [
    {
     "name": "stdout",
     "output_type": "stream",
     "text": [
      "The Zen of Python, by Tim Peters\n",
      "\n",
      "Beautiful is better than ugly.\n",
      "Explicit is better than implicit.\n",
      "Simple is better than complex.\n",
      "Complex is better than complicated.\n",
      "Flat is better than nested.\n",
      "Sparse is better than dense.\n",
      "Readability counts.\n",
      "Special cases aren't special enough to break the rules.\n",
      "Although practicality beats purity.\n",
      "Errors should never pass silently.\n",
      "Unless explicitly silenced.\n",
      "In the face of ambiguity, refuse the temptation to guess.\n",
      "There should be one-- and preferably only one --obvious way to do it.\n",
      "Although that way may not be obvious at first unless you're Dutch.\n",
      "Now is better than never.\n",
      "Although never is often better than *right* now.\n",
      "If the implementation is hard to explain, it's a bad idea.\n",
      "If the implementation is easy to explain, it may be a good idea.\n",
      "Namespaces are one honking great idea -- let's do more of those!\n"
     ]
    }
   ],
   "source": [
    "import this"
   ]
  },
  {
   "cell_type": "markdown",
   "metadata": {
    "slideshow": {
     "slide_type": "slide"
    }
   },
   "source": [
    "#Why Use Modules?\n",
    "\n",
    "* Programmers are lazy, therefore we always assume we may need to reuse our code.\n",
    "* Modules are Python's basic unit of code reuse.\n",
    "* Also, there are a bunch of useful ones already written!  (More on this later)"
   ]
  },
  {
   "cell_type": "markdown",
   "metadata": {
    "slideshow": {
     "slide_type": "slide"
    }
   },
   "source": [
    "#Using Modules\n",
    "\n",
    "* Load modules using the import command\n",
    "* Access functions using module name"
   ]
  },
  {
   "cell_type": "code",
   "execution_count": 4,
   "metadata": {
    "slideshow": {
     "slide_type": "subslide"
    }
   },
   "outputs": [
    {
     "name": "stdout",
     "output_type": "stream",
     "text": [
      "time.struct_time(tm_year=2019, tm_mon=2, tm_mday=12, tm_hour=2, tm_min=48, tm_sec=31, tm_wday=1, tm_yday=43, tm_isdst=0)\n"
     ]
    }
   ],
   "source": [
    "#import the module time \n",
    "import time \n",
    "\n",
    "#Use a function of the time module\n",
    "print(time.gmtime())"
   ]
  },
  {
   "cell_type": "markdown",
   "metadata": {
    "slideshow": {
     "slide_type": "slide"
    }
   },
   "source": [
    "#Using Modules\n",
    "\n",
    "* Alternatively, the `from` command also works\n",
    "* Then just use the function\n",
    "  * (I prefer the first for readability)"
   ]
  },
  {
   "cell_type": "code",
   "execution_count": 2,
   "metadata": {
    "slideshow": {
     "slide_type": "subslide"
    }
   },
   "outputs": [
    {
     "name": "stdout",
     "output_type": "stream",
     "text": [
      "2019-02-11 21:48:04.328704\n"
     ]
    }
   ],
   "source": [
    "#import the module time \n",
    "from time import gmtime\n",
    "\n",
    "#Use a function of the time module\n",
    "print(gmtime())"
   ]
  },
  {
   "cell_type": "markdown",
   "metadata": {
    "slideshow": {
     "slide_type": "slide"
    }
   },
   "source": [
    "#Why Use Modules?\n",
    "\n",
    "* Programmers are lazy, therefore we always assume we may need to reuse our code.\n",
    "* Modules are Python's basic unit of code reuse.\n",
    "* Also, there are a bunch of useful ones already written!  (More on this later)"
   ]
  },
  {
   "cell_type": "markdown",
   "metadata": {
    "slideshow": {
     "slide_type": "slide"
    }
   },
   "source": [
    "#Using Modules\n",
    "\n",
    "* The `dir` command can used to show the available functions\n",
    "* Though most of the time it's easier to just check the documentation"
   ]
  },
  {
   "cell_type": "code",
   "execution_count": 3,
   "metadata": {
    "slideshow": {
     "slide_type": "subslide"
    }
   },
   "outputs": [
    {
     "data": {
      "text/plain": [
       "['_STRUCT_TM_ITEMS',\n",
       " '__doc__',\n",
       " '__file__',\n",
       " '__loader__',\n",
       " '__name__',\n",
       " '__package__',\n",
       " '__spec__',\n",
       " 'altzone',\n",
       " 'asctime',\n",
       " 'clock',\n",
       " 'ctime',\n",
       " 'daylight',\n",
       " 'get_clock_info',\n",
       " 'gmtime',\n",
       " 'localtime',\n",
       " 'mktime',\n",
       " 'monotonic',\n",
       " 'perf_counter',\n",
       " 'process_time',\n",
       " 'sleep',\n",
       " 'strftime',\n",
       " 'strptime',\n",
       " 'struct_time',\n",
       " 'time',\n",
       " 'timezone',\n",
       " 'tzname',\n",
       " 'tzset']"
      ]
     },
     "execution_count": 3,
     "metadata": {},
     "output_type": "execute_result"
    }
   ],
   "source": [
    "import time\n",
    "#Check the available functions\n",
    "dir(time)"
   ]
  },
  {
   "cell_type": "markdown",
   "metadata": {
    "slideshow": {
     "slide_type": "slide"
    }
   },
   "source": [
    "#Using Modules\n",
    "\n",
    "* IDE Protip:  waiting for a second after typing moduleName. will bring up a list of functions!"
   ]
  },
  {
   "cell_type": "markdown",
   "metadata": {
    "slideshow": {
     "slide_type": "slide"
    }
   },
   "source": [
    "#Using Modules\n",
    "* There are many modules included in the basic install.\n",
    "* A full index can be found at http://docs.python.org/py-modindex.html\n",
    "* Also many more available via the python package index https://pypi.python.org/pypi"
   ]
  },
  {
   "cell_type": "markdown",
   "metadata": {
    "slideshow": {
     "slide_type": "slide"
    }
   },
   "source": [
    "#Using Modules\n",
    "\n",
    "* Adding new modules is as simple as placing them wear Python can find them.\n",
    "* Python always check the folder of the main script\n",
    "* It also checks install dir/Lib\n",
    "* Or mess with the pythonpath(sys.path) variable\n",
    "* Or just use `pip` or `conda` if you're using anaconda\n"
   ]
  },
  {
   "cell_type": "markdown",
   "metadata": {
    "slideshow": {
     "slide_type": "slide"
    }
   },
   "source": [
    "#Writing Modules\n",
    "* At the basic level any .py file will do\n",
    "* Assuming python knows where it is, just use import to pull it in and acts just like standard modules\n",
    "* Gotcha:  don't try to import yourFile.py"
   ]
  },
  {
   "cell_type": "markdown",
   "metadata": {
    "slideshow": {
     "slide_type": "slide"
    }
   },
   "source": [
    "#Writing Modules\n",
    "\n",
    "* Handy trick:  Have a bunch functions in a script you may want to reuse?\n",
    "* Just add `if __name__ == 'main':`\n",
    "* Code written under this will only be executed if it is being run directly (vs. imported)"
   ]
  },
  {
   "cell_type": "markdown",
   "metadata": {
    "slideshow": {
     "slide_type": "slide"
    }
   },
   "source": [
    "#Exercise"
   ]
  },
  {
   "cell_type": "code",
   "execution_count": 5,
   "metadata": {},
   "outputs": [
    {
     "name": "stdout",
     "output_type": "stream",
     "text": [
      "Enter the Key:b'srednaSraeF'\n",
      "R:xqydIf^vS[,ue2Xxp+AIgqsM\"\u0011:gc\u0003cta\u0017}nEC#uO  First onetd-7oeN<G_ZurQ\u0014c)Kia!OwUd%j\u0007\u0016u#d\n",
      "The Key is: b'srednaSraeF'\n"
     ]
    }
   ],
   "source": [
    "'''\n",
    "Run the following code.  Use what you know about modules to try to figure\n",
    "out the final secret message.  Pay attention to the naming convention.\n",
    "'''\n",
    "\n",
    "\n",
    "import base64\n",
    "from itertools import cycle\n",
    "\n",
    "def thisWillPrintTheKey():\n",
    "    key = 'c3JlZG5hU3JhZUY='\n",
    "    print (\"The Key is: \" + str(base64.b64decode(key)))\n",
    "\n",
    "def xor_crypt_string(data, key):\n",
    "    return ''.join(chr(ord(x) ^ ord(y)) for (x,y) in zip(data, cycle(key)))\n",
    "    \n",
    "if __name__ == \"__main__\":\n",
    "    answer = \"0\\x1d\\x0b\\x03\\x1c\\x00'\\x07\\r\\x042\\x1a\\x1d\\x0b\\x17BA*\\x1d\\x14E \\x1a\\x15\\x10\\x16\\x0b\\x05s\\x1d\\x14\\x11f\\x07\\x1a\\x00D\\x0f\\x0f \\x05\\x04\\x17hSR#\\r\\x1c\\x12'R\\x0e\\x0b#S\\x06\\nD\\x1d\\x00*R&\\x0c(\\x14\\x17\\x173\\x01\\x0e8\\x1b\\x04E!\\x16\\x06\\x16D\\x0fA1\\x17\\x04\\x17\"\n",
    "    k = input(\"Enter the Key:\")\n",
    "    print (xor_crypt_string(answer, k))\n",
    "    thisWillPrintTheKey()"
   ]
  },
  {
   "cell_type": "markdown",
   "metadata": {
    "slideshow": {
     "slide_type": "slide"
    }
   },
   "source": [
    "#File Input and Output\n",
    "\n",
    "* So far all your data has been entered by hand.\n",
    "* This will rarely actually happen\n",
    "* Python has built-in functions to open files\n",
    "* To open files use the built-in function `open`\n",
    "* The first argument is the path to the file\n",
    "* This can sometimes be tricky with “/” or “\\”\n",
    "* Use raw strings to avoid this. Ex r”/dir/file”\n",
    "* The second argument is the mode"
   ]
  },
  {
   "cell_type": "code",
   "execution_count": 7,
   "metadata": {
    "slideshow": {
     "slide_type": "fragment"
    }
   },
   "outputs": [
    {
     "name": "stdout",
     "output_type": "stream",
     "text": [
      "<_io.TextIOWrapper name='exampleFile.txt' mode='r' encoding='UTF-8'>\n"
     ]
    }
   ],
   "source": [
    "#Basic file open\n",
    "file = open('exampleFile.txt')\n",
    "\n",
    "print(file)"
   ]
  },
  {
   "cell_type": "markdown",
   "metadata": {
    "slideshow": {
     "slide_type": "slide"
    }
   },
   "source": [
    "#Common File Object Modes\n",
    "\n",
    "* 'r' - opens the file for only reading. (this is default if the argument is omitted)\n",
    "* 'r+' - opens the file for both reading and writing\n",
    "* 'w' - opens the file for only writing (an existing file with the same name will be erased)\n",
    "* 'w+' - opens the file for both reading and writing. (an existing file with the same name will be erased) If the file does not exist, creates a new file for reading and writing\n",
    "* 'a' - opens the file for appending; any data written to the file is automatically added to the end"
   ]
  },
  {
   "cell_type": "markdown",
   "metadata": {
    "slideshow": {
     "slide_type": "slide"
    }
   },
   "source": [
    "#Interacting With Files\n",
    "* Once you've opened a file you need to actually do something with it.  \n",
    "* File handle variables are used to access the file in your programs\n",
    "* These objects have a number have different methods, but we'll cover the most common ones."
   ]
  },
  {
   "cell_type": "markdown",
   "metadata": {
    "slideshow": {
     "slide_type": "slide"
    }
   },
   "source": [
    "#Reading Files\n",
    "* The most common way to read input from a file is `file.readlines()`\n",
    "* Returns a list containing each line of the file\n",
    "* Can be huge if the file is huge\n",
    "* `file.readline()` reads just a single line\n",
    "* `file.read()` reads the entire file as a string\n",
    "* Our Example File\n",
    "\n",
    "```\n",
    "This is a File.\n",
    "There are many like it, \n",
    "but this one is mine.\n",
    "```"
   ]
  },
  {
   "cell_type": "code",
   "execution_count": 5,
   "metadata": {
    "slideshow": {
     "slide_type": "slide"
    }
   },
   "outputs": [
    {
     "name": "stdout",
     "output_type": "stream",
     "text": [
      "This is a File.\n",
      "\n",
      "There are many like it, \n",
      "\n",
      "but this one is mine.\n"
     ]
    }
   ],
   "source": [
    "#Read and print each line\n",
    "\n",
    "#open the file\n",
    "inputFile = open('exampleFile.txt')\n",
    "\n",
    "#read in lines as a list\n",
    "lines = inputFile.readlines()\n",
    "\n",
    "#print the lines\n",
    "for line in lines:\n",
    "    print(line)\n",
    "    \n",
    "inputFile.close()"
   ]
  },
  {
   "cell_type": "code",
   "execution_count": 4,
   "metadata": {
    "slideshow": {
     "slide_type": "subslide"
    }
   },
   "outputs": [
    {
     "name": "stdout",
     "output_type": "stream",
     "text": [
      "This is a File.\n",
      "\n",
      "There are many like it, \n",
      "\n"
     ]
    }
   ],
   "source": [
    "#open the file\n",
    "inputFile = open('exampleFile.txt')\n",
    "\n",
    "#read in lines as a list\n",
    "line  = inputFile.readline()\n",
    "\n",
    "print(line)\n",
    "\n",
    "line  = inputFile.readline()\n",
    "inputFile.close()\n",
    "print(line)"
   ]
  },
  {
   "cell_type": "code",
   "execution_count": 6,
   "metadata": {
    "slideshow": {
     "slide_type": "subslide"
    }
   },
   "outputs": [
    {
     "name": "stdout",
     "output_type": "stream",
     "text": [
      "This is a File.\n",
      "There are many like it, \n",
      "but this one is mine.\n"
     ]
    }
   ],
   "source": [
    "#open the file\n",
    "inputFile = open('exampleFile.txt')\n",
    "\n",
    "print(inputFile.read())\n",
    "\n",
    "inputFile.close()"
   ]
  },
  {
   "cell_type": "markdown",
   "metadata": {
    "slideshow": {
     "slide_type": "slide"
    }
   },
   "source": [
    "#Writing Files\n",
    "\n",
    "* Writing to a file looks an awful lot like reading\n",
    "* file.write() writes just a single line\n",
    "* file.writelines() writes a sequence"
   ]
  },
  {
   "cell_type": "code",
   "execution_count": 7,
   "metadata": {
    "collapsed": true,
    "slideshow": {
     "slide_type": "fragment"
    }
   },
   "outputs": [],
   "source": [
    "#open the file for writing\n",
    "outputFile = open('outputTest.txt', 'w')\n",
    "#write something\n",
    "outputFile.write('This is a test\\n')\n",
    "#close the file\n",
    "outputFile.close()"
   ]
  },
  {
   "cell_type": "markdown",
   "metadata": {
    "slideshow": {
     "slide_type": "slide"
    }
   },
   "source": [
    "#File I/O Tips\n",
    "\n",
    "* file.readlines() is generally the easiest way to read a file unless you have memory constraints\n",
    "* Always close files.\n",
    "* If you hate closing files use `with` statements"
   ]
  },
  {
   "cell_type": "code",
   "execution_count": 8,
   "metadata": {
    "slideshow": {
     "slide_type": "fragment"
    }
   },
   "outputs": [
    {
     "name": "stdout",
     "output_type": "stream",
     "text": [
      "['This is a File.\\n', 'There are many like it, \\n', 'but this one is mine.']\n"
     ]
    }
   ],
   "source": [
    "#auto closes the file when you finish reading\n",
    "with open('exampleFile.txt') as inputFile:\n",
    "    lines = inputFile.readlines()\n",
    "\n",
    "print(lines)"
   ]
  },
  {
   "cell_type": "markdown",
   "metadata": {
    "collapsed": true,
    "slideshow": {
     "slide_type": "slide"
    }
   },
   "source": [
    "#os.path Module\n",
    "\n",
    "* One of the nice things about Python is it's cross platform, but Windows and *nix platforms represent file paths differently\n",
    "  * '/' for *nix\n",
    "  * '\\' for Windows\n",
    "* Using os.path lets you avoid having to worry about that\n",
    "* Use it anytime you think you may have to use the script on multiple platforms\n",
    "* Basically os.path.join will let you just join directories without worrying about the os."
   ]
  },
  {
   "cell_type": "code",
   "execution_count": 1,
   "metadata": {
    "slideshow": {
     "slide_type": "fragment"
    }
   },
   "outputs": [
    {
     "name": "stdout",
     "output_type": "stream",
     "text": [
      "Folder/File\n"
     ]
    }
   ],
   "source": [
    "windowsStr = 'C:\\Folder\\File'  # String wouldn't work on *nix\n",
    "\n",
    "import os.path\n",
    "betterString = os.path.join('Folder', 'File')\n",
    "print(betterString)"
   ]
  },
  {
   "cell_type": "markdown",
   "metadata": {
    "slideshow": {
     "slide_type": "slide"
    }
   },
   "source": [
    "#os.path Module\n",
    "\n",
    "* os.path also has a lot of other features\n",
    "  * Directory walks\n",
    "  * Absolute paths\n",
    "  * File existence\n",
    "* Check the documentation if you need to do any of these things"
   ]
  },
  {
   "cell_type": "markdown",
   "metadata": {
    "slideshow": {
     "slide_type": "slide"
    }
   },
   "source": [
    "#Exercise\n",
    "1. Write a program that asks the user for a file to open and then copies the contents of that file a second user specified file.\n",
    "2. Write a program that opens a specified  text file counts the number of lines in the file.  Once it has this number it appends this number and brief descriptor to the end of the file."
   ]
  },
  {
   "cell_type": "markdown",
   "metadata": {
    "slideshow": {
     "slide_type": "subslide"
    }
   },
   "source": [
    "###Solution 1"
   ]
  },
  {
   "cell_type": "code",
   "execution_count": 2,
   "metadata": {},
   "outputs": [
    {
     "name": "stdout",
     "output_type": "stream",
     "text": [
      "Enter the input file: exampleFile.txt\n",
      "Enter the output file: output.txt\n"
     ]
    }
   ],
   "source": [
    "#Get files to open\n",
    "inFile  = input(\"Enter the input file: \")\n",
    "outFile = input(\"Enter the output file: \")\n",
    "\n",
    "#open files\n",
    "i = open(inFile)\n",
    "o = open(outFile, 'w')\n",
    "\n",
    "#read the lines in the file and output each line\n",
    "for line in i.readlines():\n",
    "    o.write(line)\n",
    "\n",
    "#close files\n",
    "i.close()\n",
    "o.close()"
   ]
  },
  {
   "cell_type": "markdown",
   "metadata": {
    "slideshow": {
     "slide_type": "subslide"
    }
   },
   "source": [
    "###Solution 2"
   ]
  },
  {
   "cell_type": "code",
   "execution_count": null,
   "metadata": {
    "collapsed": true
   },
   "outputs": [],
   "source": [
    "#get file name from user\n",
    "inFile  = input(\"Enter the input file: \")\n",
    "\n",
    "#open file\n",
    "with open(inFile) as i:\n",
    "    i = open(inFile)\n",
    "\n",
    "#read in file as a list then call len on that list\n",
    "    lines = len(i.readlines())\n",
    "\n",
    "#open output file using the append method and write a final line with info\n",
    "o = open(inFile, 'a')\n",
    "o.write(\"There are \" + str(lines) + \" lines in this file\")\n",
    "\n",
    "#close the file\n",
    "o.close()"
   ]
  },
  {
   "cell_type": "markdown",
   "metadata": {
    "slideshow": {
     "slide_type": "slide"
    }
   },
   "source": [
    "#Strings\n",
    "\n",
    "* Strings will show up a lot\n",
    "* One of Python's greatest strengths is a robust set of ways to interact with strings\n",
    "* Python even views binary data as a byte-string\n",
    "* Strings are a lot like lists\n",
    "* If you can do something with a list, you can do it with a string"
   ]
  },
  {
   "cell_type": "code",
   "execution_count": 4,
   "metadata": {
    "slideshow": {
     "slide_type": "fragment"
    }
   },
   "outputs": [
    {
     "name": "stdout",
     "output_type": "stream",
     "text": [
      "My String with some stuff added\n",
      "True\n"
     ]
    }
   ],
   "source": [
    "myString = \"My String\"\n",
    "\n",
    "#string concatenation\n",
    "myString = myString + \" with some stuff added\"\n",
    "print(myString)\n",
    "\n",
    "#in works too\n",
    "print (\"My\" in myString)"
   ]
  },
  {
   "cell_type": "markdown",
   "metadata": {
    "slideshow": {
     "slide_type": "slide"
    }
   },
   "source": [
    "#Strings\n",
    "\n",
    "* Strings also have a number of special methods to make using them easier\n",
    "* We'll cover some of the more common ones\n",
    "* If you ever need to you can normally code these by hand, but it's no fun"
   ]
  },
  {
   "cell_type": "code",
   "execution_count": 10,
   "metadata": {
    "slideshow": {
     "slide_type": "fragment"
    }
   },
   "outputs": [
    {
     "name": "stdout",
     "output_type": "stream",
     "text": [
      "Another found at 4\n",
      "There are 4 e's\n",
      "Yes! another string example.\n",
      "['Yet', 'another', 'string', 'example.']\n",
      "Yet another string example\n"
     ]
    }
   ],
   "source": [
    "myString = \"Yet another string example.\"\n",
    "\n",
    "#find() locates the start index of the search string\n",
    "print(\"Another found at %d\" % myString.find('another'))\n",
    "\n",
    "#count() counts the number of specified values in the string\n",
    "print(\"There are %d e's\" % myString.count('e'))\n",
    "\n",
    "#replace() replaces the first pattern with the second\n",
    "print(myString.replace(\"Yet\", \"Yes!\"))\n",
    "\n",
    "#split() splits the string into a list of strings\n",
    "print(myString.split(' '))\n",
    "\n",
    "#strip() removes the specified beginning and trailing characters\n",
    "print(myString.strip('.'))"
   ]
  },
  {
   "cell_type": "markdown",
   "metadata": {
    "slideshow": {
     "slide_type": "slide"
    }
   },
   "source": [
    "#Hex Strings\n",
    "\n",
    "* Python also makes hex easy\n",
    "* Python generally assume that values are ascii, however you tell it a character is actually a raw byte using “\\x”"
   ]
  },
  {
   "cell_type": "code",
   "execution_count": 13,
   "metadata": {
    "slideshow": {
     "slide_type": "fragment"
    }
   },
   "outputs": [
    {
     "name": "stdout",
     "output_type": "stream",
     "text": [
      "\u0000Hiÿ\n",
      "3\n"
     ]
    }
   ],
   "source": [
    "#simple hex string\n",
    "print('\\x00Hi\\xFF')\n",
    "\n",
    "#methods like \"find\" work\n",
    "print('\\x00Hi\\xFF'.find('\\xFF'))"
   ]
  },
  {
   "cell_type": "markdown",
   "metadata": {
    "slideshow": {
     "slide_type": "slide"
    }
   },
   "source": [
    "#Unicode\n",
    "\n",
    "* Unicode is a standard way of dealing with international language characters.\n",
    "* In Python you can specify a unicode string by adding “u” in front of it or by calling unicode."
   ]
  },
  {
   "cell_type": "code",
   "execution_count": 16,
   "metadata": {
    "slideshow": {
     "slide_type": "fragment"
    }
   },
   "outputs": [
    {
     "name": "stdout",
     "output_type": "stream",
     "text": [
      "Unicode String\n"
     ]
    }
   ],
   "source": [
    "u1 = u'Unicode String'\n",
    "print(u1)"
   ]
  },
  {
   "cell_type": "markdown",
   "metadata": {
    "slideshow": {
     "slide_type": "slide"
    }
   },
   "source": [
    "#Exercise\n",
    "\n",
    "1. Write a program that reads in file and counts the number of words in it.  For our purposes words are considered to be a string of characters seperated by a space.\n",
    "\n",
    "2. Write a program that Olde Englishifies a document.  Turn \"You\" into \"Thou\", \"the\" into \"thy\" and \"has\" into \"hast\"."
   ]
  },
  {
   "cell_type": "markdown",
   "metadata": {
    "slideshow": {
     "slide_type": "subslide"
    }
   },
   "source": [
    "###Solution 1"
   ]
  },
  {
   "cell_type": "code",
   "execution_count": 17,
   "metadata": {},
   "outputs": [
    {
     "name": "stdout",
     "output_type": "stream",
     "text": [
      "Enter the input file: exampleFile.txt\n",
      "There are 15 words in this file.\n"
     ]
    }
   ],
   "source": [
    "#get file name from user\n",
    "inFile  = input(\"Enter the input file: \")\n",
    "\n",
    "#open file and read in its contents\n",
    "with open(inFile) as i:\n",
    "    lines = i.readlines()\n",
    "\n",
    "#create our counter variable\n",
    "words = 0\n",
    "\n",
    "for line in lines:\n",
    "    words += len(line.split(' ')) #create a list of split words and add its length\n",
    "\n",
    "print (\"There are %d words in this file.\" % words)"
   ]
  },
  {
   "cell_type": "markdown",
   "metadata": {
    "slideshow": {
     "slide_type": "subslide"
    }
   },
   "source": [
    "###Solution 2"
   ]
  },
  {
   "cell_type": "code",
   "execution_count": 18,
   "metadata": {},
   "outputs": [
    {
     "name": "stdout",
     "output_type": "stream",
     "text": [
      "Enter the input file: exampleFile.txt\n"
     ]
    }
   ],
   "source": [
    "#get file name from user\n",
    "inFile  = input(\"Enter the input file: \")\n",
    "\n",
    "#open file and read in its contents as a single line\n",
    "i = open(inFile)\n",
    "allLines = i.read()\n",
    "\n",
    "#create a new version of the string for each replacement we make\n",
    "allLines = allLines.replace('you', 'thou')\n",
    "allLines = allLines.replace('You', 'Thou')\n",
    "allLines = allLines.replace('the', 'thy')\n",
    "allLines = allLines.replace('The', 'Thy')\n",
    "allLines = allLines.replace('has', 'hast')\n",
    "allLines = allLines.replace('Has', 'Hast')\n",
    "\n",
    "#output the file\n",
    "i.close()\n",
    "o  = open(inFile, 'w')\n",
    "o.write(allLines)\n",
    "\n",
    "o.close()"
   ]
  },
  {
   "cell_type": "markdown",
   "metadata": {
    "slideshow": {
     "slide_type": "slide"
    }
   },
   "source": [
    "#Regular Expressions\n",
    "\n",
    "* In many cases a “in” will let let you match for parts of a string.  However, sometimes you will need a more robust searching mechanism.\n",
    "* Regular Expressions are the standard programming tool for pattern matching\n",
    "* Python fully supports regular expressions but is a bit less intuitive than something like perl"
   ]
  },
  {
   "cell_type": "markdown",
   "metadata": {
    "slideshow": {
     "slide_type": "slide"
    }
   },
   "source": [
    "#Regular Expressions\n",
    "\n",
    "* Regular Expressions provide the ability to match abstract user defined patterns and not just exact matches.\n",
    "* Examples of this include:\n",
    "  * Phone Numbers\n",
    "  * Credit Card Numbers\n",
    "  * IP address\n",
    "  * Formatted log entries"
   ]
  },
  {
   "cell_type": "markdown",
   "metadata": {
    "slideshow": {
     "slide_type": "slide"
    }
   },
   "source": [
    "#Regular Expressions\n",
    "\n",
    "* Basic Regular Expressions(REs) are made up of elements, which are intended to match items, and metacharacters, which specify things about the elements.\n",
    "* The most basics elements are exact matches, for example, the letter “a” or the number “4”\n",
    "* “abc” is a valid regular expression and would function exactly like searching for“abc” in string\n",
    "* Wildcard elements are used to make Res more versatile\n",
    "  * “.” is the element that specifies any value \n",
    "  * “a.c” would match “abc” or “a2c” (among others)\n",
    "* There are number of useful wild cards\n",
    "  * “\\w” is any alphnumeric character\n",
    "  * “\\s” is whitespace\n",
    "* Check the python documentation for a full list"
   ]
  },
  {
   "cell_type": "markdown",
   "metadata": {
    "slideshow": {
     "slide_type": "slide"
    }
   },
   "source": [
    "#Regular Expressions\n",
    "\n",
    "* REs also support more defined logical Ors by placing all the ORed together values in [].  \n",
    "* “a[b1]c” would match only “abc” or “a1c”\n",
    "  * Use “-” to specify a range. For example, [A-Z] is all uppercase letters.\n",
    "* This syntax is useful, but REs really start to get useful when we don't know how many values there will be\n",
    "* Metacharacters are used to specify how many instances of any element are allowed\n",
    "  * “*” specifies 0 or more characters \n",
    "* For example, “.*” literally matches anything\n",
    "* There are number of useful metacharacters\n",
    "  * “+” specifies 1 or more characters\n",
    "  * “{min, max}” specifies between min and max characters"
   ]
  },
  {
   "cell_type": "markdown",
   "metadata": {
    "slideshow": {
     "slide_type": "slide"
    }
   },
   "source": [
    "#Regular Expressions\n",
    "\n",
    "* We can group characters together using “()”.  These groups will also become important later for extraction of values \n",
    "  * For example “(ab)+” will match “ab” or “abab” or “ababab”, etc\n",
    "* Finally, “\\” is the escape character that will let you use reserved characters in a pattern.\n",
    "  * “\\.” will match an actual period"
   ]
  },
  {
   "cell_type": "markdown",
   "metadata": {
    "slideshow": {
     "slide_type": "slide"
    }
   },
   "source": [
    "#Regular Expressions\n",
    "\n",
    "* Common Regular expression examples\n",
    "  * Phone number: “\\d-\\d\\d\\d-\\d\\d\\d-\\d\\d\\d\\d”\n",
    "  * Social Security number: “\\d{3}-\\d{2}-\\d{4}”\n",
    "  * IP Address: “(\\d{1,3}\\.){3}\\d{1,3}”"
   ]
  },
  {
   "cell_type": "markdown",
   "metadata": {
    "slideshow": {
     "slide_type": "slide"
    }
   },
   "source": [
    "#Regular Expressions in Python\n",
    "\n",
    "* In Python, regular expressions are accessed using the re module\n",
    "* There are two main types\n",
    "  * Match REs will require you to match the entire string \n",
    "  * Search REs will let you match a substring\n",
    "* There is also a findall function that will find all the given matches in a string\n",
    "* To further complicate thingsyou also can precompile RE objects or just run the RE functions directly\n",
    "* Precompiling is more efficient if you plan on repeated using the RE\n",
    "* Also, using these functions requires that you assign the results to a variable"
   ]
  },
  {
   "cell_type": "markdown",
   "metadata": {
    "slideshow": {
     "slide_type": "slide"
    }
   },
   "source": [
    "#Basic Pattern Matching"
   ]
  },
  {
   "cell_type": "code",
   "execution_count": 21,
   "metadata": {},
   "outputs": [
    {
     "name": "stdout",
     "output_type": "stream",
     "text": [
      "The first results includes a match\n",
      "The second Doesn't match\n"
     ]
    }
   ],
   "source": [
    "import re\n",
    "\n",
    "#create a pattern\n",
    "pattern = r'X[a-z]*X'\n",
    "\n",
    "#Run against some strings\n",
    "res = re.match(pattern, \"XthismatchesX\")\n",
    "res2 = re.match(pattern, 'XthisDOESNTmatchX')\n",
    "\n",
    "if res:\n",
    "    print(\"The first results includes a match\")\n",
    "    \n",
    "if res2:\n",
    "    pass\n",
    "else:\n",
    "    print(\"The second doesn't match\")\n"
   ]
  },
  {
   "cell_type": "markdown",
   "metadata": {
    "slideshow": {
     "slide_type": "slide"
    }
   },
   "source": [
    "#Basic Pattern Matching"
   ]
  },
  {
   "cell_type": "code",
   "execution_count": 23,
   "metadata": {},
   "outputs": [
    {
     "name": "stdout",
     "output_type": "stream",
     "text": [
      "The first results includes a match\n",
      "The Search matches\n"
     ]
    }
   ],
   "source": [
    "import re\n",
    "\n",
    "#create a pattern\n",
    "pattern = r'X[a-z]*X'\n",
    "\n",
    "#pre-compile our matches\n",
    "matcher = re.compile(pattern)\n",
    "\n",
    "#Run against some strings\n",
    "res = matcher.match( \"XthismatchesX\")\n",
    "#you can search with the same pattern as well\n",
    "res2 = matcher.search('XthisXDOESmatchX')\n",
    "\n",
    "if res:\n",
    "    print(\"The first results includes a match\")\n",
    "    \n",
    "if res2:\n",
    "    print(\"The Search matches\")\n",
    "else:\n",
    "    print(\"The second doesn't match\")"
   ]
  },
  {
   "cell_type": "markdown",
   "metadata": {
    "slideshow": {
     "slide_type": "slide"
    }
   },
   "source": [
    "#Extracting Data\n",
    "\n",
    "* Grouping is a way to extract data from a pattern using groups designated by “()”\n",
    "* Grouping is why match objects return more than a boolean\n",
    "* Accessed via calling the group() method on an object\n",
    "  * group(0) is the entire match\n",
    "  * group(1) is the first group, etc"
   ]
  },
  {
   "cell_type": "code",
   "execution_count": 24,
   "metadata": {
    "slideshow": {
     "slide_type": "fragment"
    }
   },
   "outputs": [
    {
     "name": "stdout",
     "output_type": "stream",
     "text": [
      "The first results includes a match of thismatches\n"
     ]
    }
   ],
   "source": [
    "import re\n",
    "\n",
    "#create a pattern\n",
    "pattern = r'X([a-z]*)X'\n",
    "\n",
    "#Run against some strings\n",
    "res = re.match(pattern, \"XthismatchesX\")\n",
    "\n",
    "if res:\n",
    "    print(\"The first results includes a match of %s\" % res.group(1))\n",
    "    "
   ]
  },
  {
   "cell_type": "markdown",
   "metadata": {
    "slideshow": {
     "slide_type": "slide"
    }
   },
   "source": [
    "#Extracting Data\n",
    "* groups() (note the plural) is an easy way to match to extract multiple matches for looping\n",
    "* This method returns a tuple containing all of the various matches"
   ]
  },
  {
   "cell_type": "code",
   "execution_count": 25,
   "metadata": {
    "slideshow": {
     "slide_type": "fragment"
    }
   },
   "outputs": [
    {
     "name": "stdout",
     "output_type": "stream",
     "text": [
      "('this', 'matches', 'thrice')\n"
     ]
    }
   ],
   "source": [
    "import re\n",
    "\n",
    "#create a pattern\n",
    "pattern = r'X([a-z]*)X([a-z]*)X([a-z]*)X'\n",
    "\n",
    "#Run against some strings\n",
    "res = re.match(pattern, \"XthisXmatchesXthriceX\")\n",
    "\n",
    "if res:\n",
    "    print(res.groups())"
   ]
  },
  {
   "cell_type": "markdown",
   "metadata": {
    "slideshow": {
     "slide_type": "slide"
    }
   },
   "source": [
    "#Exercise\n",
    "\n",
    "1. Write a program that prompts the user to enter a MAC address and then determines if the address is valid.  Remember mac addresses consist of 6 pairs of hex characters seperated by either a dash or a colon.\n",
    "2. Write a program that parses a text file and retrieves the last word of each sentence.\n",
    "3. Bonus!  Modify exercise 1 to recognize only valid ip addresses."
   ]
  },
  {
   "cell_type": "markdown",
   "metadata": {
    "slideshow": {
     "slide_type": "subslide"
    }
   },
   "source": [
    "###Solution 1"
   ]
  },
  {
   "cell_type": "code",
   "execution_count": 27,
   "metadata": {},
   "outputs": [
    {
     "name": "stdout",
     "output_type": "stream",
     "text": [
      "Enter A MAC address: AA:11:BB:CC:FF:45\n",
      "Valid MAC Address\n"
     ]
    }
   ],
   "source": [
    "#import the module\n",
    "import re\n",
    "\n",
    "#create a regex pattern\n",
    "regex = \"([0-9A-F]{2}[\\-:]){5}[0-9A-F]{2}\"\n",
    "\n",
    "#get input\n",
    "mac = input(\"Enter A MAC address: \")\n",
    "\n",
    "#Check to see if the input matches and store the results\n",
    "res = re.match(regex, mac)\n",
    "\n",
    "#check to see if we have a result.\n",
    "if res:\n",
    "    print (\"Valid MAC Address\")\n",
    "else:\n",
    "    print (\"Not a valid MAC Address\")"
   ]
  },
  {
   "cell_type": "markdown",
   "metadata": {
    "slideshow": {
     "slide_type": "subslide"
    }
   },
   "source": [
    "###Solution 2"
   ]
  },
  {
   "cell_type": "code",
   "execution_count": 4,
   "metadata": {},
   "outputs": [
    {
     "name": "stdout",
     "output_type": "stream",
     "text": [
      "Found the following last words:\n",
      "File\n",
      "mine\n"
     ]
    }
   ],
   "source": [
    "import re\n",
    "#get file name from user\n",
    "#inFile  = raw_input(\"Enter the input file: \")\n",
    "\n",
    "#open file and read in its contents\n",
    "i = open('exampleFile.txt')\n",
    "allLines = i.read()\n",
    "i.close()\n",
    "\n",
    "#create our regex\n",
    "regex = \"([^\\s]+?)[\\.\\!\\?]\"\n",
    "\n",
    "#use find all to find each instance\n",
    "res = re.findall(regex, allLines)\n",
    "\n",
    "#display our results\n",
    "print (\"Found the following last words:\")\n",
    "for word in res:\n",
    "    print(word)"
   ]
  },
  {
   "cell_type": "markdown",
   "metadata": {
    "slideshow": {
     "slide_type": "slide"
    }
   },
   "source": [
    "#Final Exercise\n",
    "\n",
    "You have been given a large Apache log for your company webserver.  Write a program that will parse the file and extract useful data.  Read in the file and write out a summary which contains the following data.\n",
    "\n",
    "1. Unique IPs\n",
    "2. Most Popular Page\n",
    "3. Total number of requests\n",
    "\n",
    "Bonus Problem 1:  Figure out where it might be worthwhile to put a cached copy of the page by identifying possible proxy servers "
   ]
  },
  {
   "cell_type": "code",
   "execution_count": null,
   "metadata": {
    "collapsed": true,
    "slideshow": {
     "slide_type": "subslide"
    }
   },
   "outputs": [],
   "source": [
    "import re\n",
    "\n",
    "#function to find the largest value in dictionary \n",
    "def findLargestValue(d):\n",
    "    largestValue = 0\n",
    "    returnKey = None\n",
    "\n",
    "    for key in d:\n",
    "        if d[key] > largestValue:\n",
    "            largestValue = d[key]\n",
    "            returnKey = key\n",
    "\n",
    "    return returnKey\n",
    "    \n",
    "\n",
    "\n",
    "fileName = \"http_logs\"\n",
    "#create our regex\n",
    "regex = r'(\\d{1,3}\\.\\d{1,3}\\.\\d{1,3}\\.\\d{1,3}) - - \\[.*?\\] \"(?:(?:GET)|(?:POST)) (.*?) HTTP/1.1\".*'\n",
    "matcher = re.compile(regex)\n",
    "\n",
    "#open and read in the file\n",
    "inputFile = open(fileName)\n",
    "lines = inputFile.readlines()\n",
    "inputFile.close()\n",
    "\n",
    "#create dictionaries for easy deduping\n",
    "IPs = {}\n",
    "pages = {}\n",
    "\n",
    "#parse through log and extract data, storing data in the dictionaries\n",
    "for line in lines:\n",
    "    match = matcher.match(line)\n",
    "    if match:\n",
    "        if match.group(1) in IPs:\n",
    "            IPs[match.group(1)] += 1\n",
    "        else:\n",
    "            IPs[match.group(1)] = 1\n",
    "\n",
    "        if match.group(2) in pages:\n",
    "            pages[match.group(2)] += 1\n",
    "        else:\n",
    "            pages[match.group(2)] = 0\n",
    "\n",
    "#find final results\n",
    "finalIP = findLargestValue(IPs)\n",
    "finalPage = findLargestValue(pages)\n",
    "totalHits = len(lines)\n",
    "\n",
    "#print our results\n",
    "print (\"Unique IPs: \")\n",
    "for key in IPs:\n",
    "    print key\n",
    "\n",
    "print (\"Most Popular Page: \" + finalPage)\n",
    "print (\"Total Hits: \" + str(totalHits))"
   ]
  }
 ],
 "metadata": {
  "celltoolbar": "Slideshow",
  "kernelspec": {
   "display_name": "Python 3",
   "language": "python",
   "name": "python3"
  },
  "language_info": {
   "codemirror_mode": {
    "name": "ipython",
    "version": 3
   },
   "file_extension": ".py",
   "mimetype": "text/x-python",
   "name": "python",
   "nbconvert_exporter": "python",
   "pygments_lexer": "ipython3",
   "version": "3.6.5"
  }
 },
 "nbformat": 4,
 "nbformat_minor": 1
}
