{
 "cells": [
  {
   "cell_type": "code",
   "execution_count": null,
   "metadata": {},
   "outputs": [],
   "source": [
    "Install Python\n",
    "\n",
    "https://www.python.org/downloads/\n",
    "    \n"
   ]
  },
  {
   "cell_type": "markdown",
   "metadata": {},
   "source": [
    "Install Jupyter Notebook\n",
    "\n",
    "http://jupyter.org/install\n",
    "\n",
    "Installing Jupyter with pip\n",
    "As an existing or experienced Python user, you may wish to install Jupyter using Python’s package manager, pip, instead of Anaconda.\n",
    "\n",
    "If you have Python 3 installed (which is recommended):\n",
    "\n",
    "python3 -m pip install --upgrade pip\n",
    "python3 -m pip install jupyter\n",
    "If you have Python 2 installed:\n",
    "\n",
    "python -m pip install --upgrade pip\n",
    "python -m pip install jupyter\n",
    "Congratulations, you have installed Jupyter Notebook! To run the notebook, run the following command at the Terminal (Mac/Linux) or Command Prompt (Windows):\n",
    "\n",
    "jupyter notebook\n",
    "\n",
    "\n"
   ]
  },
  {
   "cell_type": "code",
   "execution_count": null,
   "metadata": {},
   "outputs": [],
   "source": [
    "Install Anaconda\n",
    "\n",
    "https://www.anaconda.com/download/\n",
    "    \n"
   ]
  }
 ],
 "metadata": {
  "kernelspec": {
   "display_name": "Python 3",
   "language": "python",
   "name": "python3"
  },
  "language_info": {
   "codemirror_mode": {
    "name": "ipython",
    "version": 3
   },
   "file_extension": ".py",
   "mimetype": "text/x-python",
   "name": "python",
   "nbconvert_exporter": "python",
   "pygments_lexer": "ipython3",
   "version": "3.6.5"
  }
 },
 "nbformat": 4,
 "nbformat_minor": 2
}
