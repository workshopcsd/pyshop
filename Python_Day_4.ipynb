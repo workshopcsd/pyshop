{
 "cells": [
  {
   "cell_type": "markdown",
   "metadata": {
    "slideshow": {
     "slide_type": "slide"
    }
   },
   "source": [
    "# Introduction To Python\n",
    "\n",
    "## Day 4: Advanced Concepts "
   ]
  },
  {
   "cell_type": "markdown",
   "metadata": {
    "slideshow": {
     "slide_type": "slide"
    }
   },
   "source": [
    "# Object Oriented Programming\n",
    "\n",
    "* Object Oriented Programming is a paradigm for program design.\n",
    "  * Used by Python and most major languages\n",
    "  * There are other paradigms but they're specialized\n",
    "* Based around the concept of “Objects”\n",
    "* An object has data\n",
    "* An object has things you can do with that data called “methods”"
   ]
  },
  {
   "cell_type": "markdown",
   "metadata": {
    "slideshow": {
     "slide_type": "slide"
    }
   },
   "source": [
    "# Why Use Object Oriented Programming?\n",
    "\n",
    "* It creates more manageable code\n",
    "* It makes coding against exceptions and errors easier.\n",
    "* It makes code easier to reuse.\n"
   ]
  },
  {
   "cell_type": "markdown",
   "metadata": {
    "slideshow": {
     "slide_type": "slide"
    }
   },
   "source": [
    "# Object Oriented Programing Basics\n",
    "\n",
    "* Objects have specific data\n",
    "  * Example:  The “person” object\n",
    "  * A person has a first name, a last name, a gender, age, and haircolor\n",
    "\n",
    "* Objects have methods that act on data\n",
    "  * Example: the “person” object\n",
    "  * A person can do the following: get older, tell someone their full name, or change their hair color "
   ]
  },
  {
   "cell_type": "markdown",
   "metadata": {
    "slideshow": {
     "slide_type": "slide"
    }
   },
   "source": [
    "# Objects in Python\n",
    "\n",
    "* Almost everything is an object in Python \n",
    "  * Remember all the list/string/modules accessed via “.”. Those are methods.\n",
    "* Objects are referred to as classes."
   ]
  },
  {
   "cell_type": "markdown",
   "metadata": {
    "slideshow": {
     "slide_type": "slide"
    }
   },
   "source": [
    "# Class Syntax\n",
    "\n",
    "* Use the `class` keyword to define an object\n",
    "* Use `def` to define methods just like they were functions, but the first argument is `self`\n",
    "* Define data by simply declaring a variable\n",
    "* Access data or methods using `.`\n",
    "* Use `self.variable` to access data in methods"
   ]
  },
  {
   "cell_type": "markdown",
   "metadata": {
    "slideshow": {
     "slide_type": "slide"
    }
   },
   "source": [
    "# The \"Person Example\""
   ]
  },
  {
   "cell_type": "code",
   "execution_count": 8,
   "metadata": {},
   "outputs": [],
   "source": [
    "class person():\n",
    "    \n",
    "    gender ='Male'\n",
    "    firstName = \"John\"\n",
    "    lastName = 'Smith'\n",
    "    age=33\n",
    "    hairColor=\"Brown\"\n",
    "    \n",
    "    def getFullName(self):\n",
    "        return self.firstName + \" \" + self.lastName\n",
    "    \n",
    "    def getOlder(self):\n",
    "        self.age+=1\n",
    "        \n",
    "    def dyeHair(self, color):\n",
    "        self.hairColor = color\n",
    "     "
   ]
  },
  {
   "cell_type": "markdown",
   "metadata": {
    "slideshow": {
     "slide_type": "slide"
    }
   },
   "source": [
    "# The \"Person\" Example"
   ]
  },
  {
   "cell_type": "code",
   "execution_count": 9,
   "metadata": {},
   "outputs": [
    {
     "name": "stdout",
     "output_type": "stream",
     "text": [
      "John Smith is this old: 33\n",
      "...but time goes by and now I'm 34\n",
      "Now John Smith is a littler weird(er) with Brown hair\n"
     ]
    }
   ],
   "source": [
    "#create a new person\n",
    "me = person()\n",
    "print(\"%s is this old: %d\" % (me.getFullName(), me.age))\n",
    "\n",
    "me.getOlder()\n",
    "\n",
    "print(\"...but time goes by and now I'm %d\" % me.age)\n",
    "\n",
    "#mid-life crisis\n",
    "me.dyeHair(\"Blue\")\n",
    "\n",
    "print(\"Now %s is a littler weird(er) with %s hair\" % (me.getFullName(), me.hairColor))"
   ]
  },
  {
   "cell_type": "markdown",
   "metadata": {
    "slideshow": {
     "slide_type": "slide"
    }
   },
   "source": [
    "# Constructors\n",
    "\n",
    "* Constructors are specific type of method that is called whenever an object is created.\n",
    "* Generally used in place of creating variables that will change between object instances\n",
    "* In Python this is specified using the `__init__(self)` function. (Use 2 “_”)"
   ]
  },
  {
   "cell_type": "markdown",
   "metadata": {
    "slideshow": {
     "slide_type": "slide"
    }
   },
   "source": [
    "# Constructor Example"
   ]
  },
  {
   "cell_type": "code",
   "execution_count": 13,
   "metadata": {
    "slideshow": {
     "slide_type": "-"
    }
   },
   "outputs": [],
   "source": [
    "class person(object):\n",
    "    \n",
    "    def __init__(self, g, f, l, a, h):\n",
    "        self.gender =g\n",
    "        self.firstName = f\n",
    "        self.lastName = l\n",
    "        self.age=a\n",
    "        self.hairColor=h\n",
    "    \n",
    "    def getFullName(self):\n",
    "        return self.firstName + \" \" + self.lastName\n",
    "    \n",
    "    def getOlder(self):\n",
    "        self.age+=1\n",
    "        \n",
    "    def dyeHair(self, color):\n",
    "        self.hairColor = color"
   ]
  },
  {
   "cell_type": "code",
   "execution_count": 14,
   "metadata": {},
   "outputs": [
    {
     "name": "stdout",
     "output_type": "stream",
     "text": [
      "John Smith is this old: 33\n",
      "...but time goes by and now I'm 34\n",
      "Now John Smith is now enjoying himself more with Blue hair\n"
     ]
    }
   ],
   "source": [
    "#create a new person\n",
    "me = person('Male', 'John', 'Smith', 33, \"Brown\")\n",
    "print(\"%s is this old: %d\" % (me.getFullName(), me.age))\n",
    "\n",
    "me.getOlder()\n",
    "\n",
    "print(\"...but time goes by and now I'm %d\" % me.age)\n",
    "\n",
    "#mid-life crisis\n",
    "me.dyeHair(\"Blue\")\n",
    "\n",
    "print(\"Now %s is now enjoying himself more with %s hair\" % (me.getFullName(), me.hairColor))"
   ]
  },
  {
   "cell_type": "markdown",
   "metadata": {
    "slideshow": {
     "slide_type": "slide"
    }
   },
   "source": [
    "# Inheritance\n",
    "\n",
    "* Inheritance is how class code is generally reused.\n",
    "* When a classes inherits from another class it becomes a sub-type of that class and gains all its data and methods.\n",
    "* The syntax for this is class `newClass(oldClass):`\n",
    "* The inherited class methods are accessed via `super()`. Note that the inherited class must itself inherit the `object` class."
   ]
  },
  {
   "cell_type": "markdown",
   "metadata": {
    "slideshow": {
     "slide_type": "slide"
    }
   },
   "source": [
    "# Inheritance Example"
   ]
  },
  {
   "cell_type": "code",
   "execution_count": 10,
   "metadata": {},
   "outputs": [],
   "source": [
    "class employee(person):\n",
    "    \n",
    "    def __init__(self, g, f, l, a, h, s, i):\n",
    "        super(employee, self).__init__( g, f, l, a, h)\n",
    "        self.salary = s\n",
    "        self.ID = i\n",
    "    \n",
    "    def giveRaise(self):\n",
    "        \n",
    "        self.salary = self.salary * 1.03\n"
   ]
  },
  {
   "cell_type": "code",
   "execution_count": 11,
   "metadata": {},
   "outputs": [
    {
     "name": "stdout",
     "output_type": "stream",
     "text": [
      "John Smith says 'I'd like a raise'\n",
      "... and gets a well deserved raise to $3.605000\n"
     ]
    }
   ],
   "source": [
    "john = employee(\"Male\", 'John', 'Smith', '33', 'Brown', 3.50,  '31337')\n",
    "\n",
    "print(\"%s says 'I'd like a raise'\" % john.getFullName())\n",
    "\n",
    "john.giveRaise()\n",
    "\n",
    "print(\"... and gets a well deserved raise to $%f\" % john.salary)\n"
   ]
  },
  {
   "cell_type": "markdown",
   "metadata": {
    "slideshow": {
     "slide_type": "slide"
    }
   },
   "source": [
    "# A Few More Things...\n",
    "\n",
    "* Classes can inherit from multiple other classes\n",
    "* You can overwrite operators such as + or * by adding an `__add__(self, other)` or `__mul__(self, other)` function.  \n",
    "  * See http://docs.python.org/reference/datamodel.html#special-method-names for a list of these options\n",
    "* Disclaimer:  Textbooks generally take multiple chapters to cover classes, this set of slides should not be considered to have covered everything"
   ]
  },
  {
   "cell_type": "markdown",
   "metadata": {
    "collapsed": true,
    "slideshow": {
     "slide_type": "slide"
    }
   },
   "source": [
    "# Exercise \n",
    "\n",
    "1. Create a class called savingsAccount which has the internal data Balance and Interest rate.  It has the built in methods CalculateMonthlyInterestRate() and DepositMoney(amount).  Which let you add money to Balance and calculate interest on that balance respectively.  Remember to add a constructor.\n",
    "2. Create an InvestmentAccount class that does everything a savings account does but also pays a dividend calculated as percent of the balance\n"
   ]
  },
  {
   "cell_type": "code",
   "execution_count": 25,
   "metadata": {},
   "outputs": [],
   "source": [
    "f=savingsAccount(5,1300)"
   ]
  },
  {
   "cell_type": "code",
   "execution_count": 28,
   "metadata": {},
   "outputs": [
    {
     "data": {
      "text/plain": [
       "<bound method savingsAccount.depositMoney of <__main__.savingsAccount object at 0x10871aeb8>>"
      ]
     },
     "execution_count": 28,
     "metadata": {},
     "output_type": "execute_result"
    }
   ],
   "source": [
    "f.depositMoney\n"
   ]
  },
  {
   "cell_type": "code",
   "execution_count": null,
   "metadata": {},
   "outputs": [],
   "source": []
  },
  {
   "cell_type": "markdown",
   "metadata": {
    "slideshow": {
     "slide_type": "subslide"
    }
   },
   "source": [
    "# Solution 1"
   ]
  },
  {
   "cell_type": "code",
   "execution_count": 29,
   "metadata": {},
   "outputs": [],
   "source": [
    "class savingsAccount:\n",
    "\n",
    "    #create constructor\n",
    "    def __init__(self, balance, interestRate):\n",
    "\n",
    "        self.balance = balance\n",
    "        self.interestRate = interestRate\n",
    "\n",
    "    #function to modify a variable\n",
    "    def calculateMonthlyInterest(self):\n",
    "\n",
    "        self.balance += self.balance * (self.interestRate /12)\n",
    "\n",
    "    #function to add to balance\n",
    "    def depositMoney(self, amount):\n",
    "\n",
    "        self.balance += amount"
   ]
  },
  {
   "cell_type": "markdown",
   "metadata": {
    "slideshow": {
     "slide_type": "subslide"
    }
   },
   "source": [
    "# Solution 2"
   ]
  },
  {
   "cell_type": "code",
   "execution_count": 2,
   "metadata": {
    "collapsed": true
   },
   "outputs": [],
   "source": [
    "#investment account which inherits from savingsAccount\n",
    "class investmentAccount(savingsAccount):\n",
    "\n",
    "    def payDividend(self, percent):\n",
    "\n",
    "        dividendAmount = self.balance * percent\n",
    "\n",
    "        self.depositMoney(dividendAmount)\n",
    "\n",
    "        return dividendAmount"
   ]
  },
  {
   "cell_type": "markdown",
   "metadata": {
    "slideshow": {
     "slide_type": "slide"
    }
   },
   "source": [
    "# Exception Handling\n",
    "\n",
    "* So far, we've assumed that you will get properly formatted input\n",
    "* The real world does not work like this!\n",
    "* One solution is to write your own code to validate input\n",
    "* For example if you were expecting an integer you could do this\n"
   ]
  },
  {
   "cell_type": "code",
   "execution_count": 33,
   "metadata": {},
   "outputs": [
    {
     "name": "stdout",
     "output_type": "stream",
     "text": [
      "Enter a number: Hello\n",
      "Not an integer\n"
     ]
    }
   ],
   "source": [
    "value = input(\"Enter a number: \")\n",
    "\n",
    "if value.isdigit():\n",
    "    intValue = int(value)\n",
    "else:\n",
    "    print(\"Not an integer\")"
   ]
  },
  {
   "cell_type": "markdown",
   "metadata": {
    "slideshow": {
     "slide_type": "slide"
    }
   },
   "source": [
    "# Exception\n",
    "\n",
    "* However, you could have more than one possible error you might need to look for..."
   ]
  },
  {
   "cell_type": "code",
   "execution_count": 2,
   "metadata": {},
   "outputs": [
    {
     "name": "stdout",
     "output_type": "stream",
     "text": [
      "Enter a number: mm\n",
      "Not an integer\n"
     ]
    }
   ],
   "source": [
    "value = input(\"Enter a number: \")\n",
    "try:\n",
    "    if value.isdigit():\n",
    "        intValue = int(value)\n",
    "    else:\n",
    "        print(\"Not an integer\")\n",
    "\n",
    "    if intValue != 0:\n",
    "        print(1/intValue)\n",
    "    else:\n",
    "        print(\"Division By zero\")\n",
    "        \n",
    "except NameError:\n",
    "    "
   ]
  },
  {
   "cell_type": "markdown",
   "metadata": {
    "slideshow": {
     "slide_type": "slide"
    }
   },
   "source": [
    "# Exception Handling\n",
    "\n",
    "* Writing code for every possible error case can get time consuming quickly \n",
    "* There are also cases where there might be unknown error cases\n",
    "* Some sort of mechanism is needed to simplify this..."
   ]
  },
  {
   "cell_type": "markdown",
   "metadata": {
    "slideshow": {
     "slide_type": "fragment"
    }
   },
   "source": [
    "* The standard way programming languages solve this is via Exception Handling\n",
    "* When an error occurs an exception is raised.  This exception is then caught by the code and handled in a specific way"
   ]
  },
  {
   "cell_type": "markdown",
   "metadata": {
    "slideshow": {
     "slide_type": "slide"
    }
   },
   "source": [
    "# Exception Handling\n",
    "\n",
    "* The pythonic version of this is a try/except statement\n",
    "* `try:` is used before a code that could cause an exception\n",
    "* `except:` is used to catch that exception"
   ]
  },
  {
   "cell_type": "code",
   "execution_count": null,
   "metadata": {
    "slideshow": {
     "slide_type": "fragment"
    }
   },
   "outputs": [],
   "source": [
    "value = input(\"Enter a number: \")\n",
    "\n",
    "try:\n",
    "    print(1/int(value))\n",
    "except:\n",
    "    \n",
    "    print(\"Illegal Value\")"
   ]
  },
  {
   "cell_type": "markdown",
   "metadata": {
    "slideshow": {
     "slide_type": "slide"
    }
   },
   "source": [
    "# Exception Handling\n",
    "\n",
    "* The last example actually generated two types of exceptions\n",
    "* ValueError – When a letter was enter\n",
    "* ZeroDivisionError – For dividing by zero\n",
    "* In many cases different exceptions need to be handled differently by specifying the specific exception type"
   ]
  },
  {
   "cell_type": "code",
   "execution_count": 5,
   "metadata": {
    "slideshow": {
     "slide_type": "fragment"
    }
   },
   "outputs": [
    {
     "name": "stdout",
     "output_type": "stream",
     "text": [
      "Enter a number: 1\n",
      "1.0\n"
     ]
    }
   ],
   "source": [
    "value = input(\"Enter a number: \")\n",
    "\n",
    "try:\n",
    "    print(1/int(value))\n",
    "except ValueError:\n",
    "    print(\"Illegal Value\")\n",
    "except ZeroDivisionError:\n",
    "    print(\"Division By Zero\")"
   ]
  },
  {
   "cell_type": "markdown",
   "metadata": {
    "slideshow": {
     "slide_type": "slide"
    }
   },
   "source": [
    "# Dealing with Exceptions\n",
    "\n",
    "* One of the biggest advantages of exceptions is that a program can continue after an error\n",
    "* However, in many cases there are specific things that you only want to occur if an exception does or does not occur\n",
    "* `else:` is used if there is code that should only run if no exception was raised"
   ]
  },
  {
   "cell_type": "code",
   "execution_count": 8,
   "metadata": {
    "slideshow": {
     "slide_type": "fragment"
    }
   },
   "outputs": [
    {
     "name": "stdout",
     "output_type": "stream",
     "text": [
      "Enter a number: 0\n",
      "Division By Zero\n"
     ]
    }
   ],
   "source": [
    "value = input(\"Enter a number: \")\n",
    "\n",
    "try:\n",
    "    middleVal = 1/int(value)\n",
    "except ValueError:\n",
    "    print(\"Illegal Value\")\n",
    "except ZeroDivisionError:\n",
    "    print(\"Division By Zero\")\n",
    "else:\n",
    "    print (middleVal * 10)"
   ]
  },
  {
   "cell_type": "markdown",
   "metadata": {
    "slideshow": {
     "slide_type": "slide"
    }
   },
   "source": [
    "# Dealing With Exceptions\n",
    "\n",
    "* There are also times where code needs to be run regardless of whether there was an error or not\n",
    "* “finally:” is used to indicate that code must be run\n",
    "* Often used to close files or free up other system resources"
   ]
  },
  {
   "cell_type": "code",
   "execution_count": null,
   "metadata": {
    "slideshow": {
     "slide_type": "fragment"
    }
   },
   "outputs": [],
   "source": [
    "value = input(\"Enter a number: \")\n",
    "\n",
    "try:\n",
    "    middleVal = 1/int(value)\n",
    "except ValueError:\n",
    "    print(\"Illegal Value\")\n",
    "except ZeroDivisionError:\n",
    "    print(\"Division By Zero\")\n",
    "else:\n",
    "    print (middleVal * 10)\n",
    "finally:\n",
    "    print(\"And we're done...\")"
   ]
  },
  {
   "cell_type": "markdown",
   "metadata": {
    "slideshow": {
     "slide_type": "slide"
    }
   },
   "source": [
    "# Specific Exceptions\n",
    "\n",
    "* In some cases the code will also need specific data about the exception\n",
    "* For example to write to an error log\n",
    "* `except Exception as <var>` will do this\n",
    "* Can also specify more detailed types of exceptions\n",
    "* The caught except is now an accessible object"
   ]
  },
  {
   "cell_type": "code",
   "execution_count": 11,
   "metadata": {
    "slideshow": {
     "slide_type": "fragment"
    }
   },
   "outputs": [
    {
     "name": "stdout",
     "output_type": "stream",
     "text": [
      "Enter a number: 0\n",
      "Caught division by zero\n",
      "And we're done...\n"
     ]
    }
   ],
   "source": [
    "value = input(\"Enter a number: \")\n",
    "\n",
    "try:\n",
    "    middleVal = 1/int(value)\n",
    "except Exception as e:\n",
    "    print(\"Caught %s\" % str(e))\n",
    "else:\n",
    "    print (middleVal * 10)\n",
    "finally:\n",
    "    print(\"And we're done...\")"
   ]
  },
  {
   "cell_type": "markdown",
   "metadata": {
    "slideshow": {
     "slide_type": "slide"
    }
   },
   "source": [
    "# Raising Exceptions\n",
    "\n",
    "* Exceptions can also be raised manually using the “raise” statement\n",
    "* Can also create custom exceptions by inheriting from the Exception class"
   ]
  },
  {
   "cell_type": "markdown",
   "metadata": {
    "slideshow": {
     "slide_type": "slide"
    }
   },
   "source": [
    "# Exercise\n",
    "\n",
    "1. Write a version of the copy file program from exercise 2-2 that fails gracefully if the user enters a bad file name and then prompts the user to enter a new file name to open.\n",
    "2. Write a program that takes two numbers separated by an operator(for example “234 / 57”) from the user and then performs the operation indicated.  Make sure the program can handle bad input.\n"
   ]
  },
  {
   "cell_type": "markdown",
   "metadata": {
    "slideshow": {
     "slide_type": "subslide"
    }
   },
   "source": [
    "## Solution 1"
   ]
  },
  {
   "cell_type": "code",
   "execution_count": 2,
   "metadata": {},
   "outputs": [
    {
     "name": "stdout",
     "output_type": "stream",
     "text": [
      "Enter the input file: aa\n",
      "Enter the output file: ll.txt\n",
      "Could not open file\n"
     ]
    },
    {
     "ename": "KeyboardInterrupt",
     "evalue": "",
     "output_type": "error",
     "traceback": [
      "\u001b[0;31m---------------------------------------------------------------------------\u001b[0m",
      "\u001b[0;31mKeyboardInterrupt\u001b[0m                         Traceback (most recent call last)",
      "\u001b[0;32m/Library/Frameworks/Python.framework/Versions/3.6/lib/python3.6/site-packages/ipykernel/kernelbase.py\u001b[0m in \u001b[0;36m_input_request\u001b[0;34m(self, prompt, ident, parent, password)\u001b[0m\n\u001b[1;32m    728\u001b[0m             \u001b[0;32mtry\u001b[0m\u001b[0;34m:\u001b[0m\u001b[0;34m\u001b[0m\u001b[0m\n\u001b[0;32m--> 729\u001b[0;31m                 \u001b[0mident\u001b[0m\u001b[0;34m,\u001b[0m \u001b[0mreply\u001b[0m \u001b[0;34m=\u001b[0m \u001b[0mself\u001b[0m\u001b[0;34m.\u001b[0m\u001b[0msession\u001b[0m\u001b[0;34m.\u001b[0m\u001b[0mrecv\u001b[0m\u001b[0;34m(\u001b[0m\u001b[0mself\u001b[0m\u001b[0;34m.\u001b[0m\u001b[0mstdin_socket\u001b[0m\u001b[0;34m,\u001b[0m \u001b[0;36m0\u001b[0m\u001b[0;34m)\u001b[0m\u001b[0;34m\u001b[0m\u001b[0m\n\u001b[0m\u001b[1;32m    730\u001b[0m             \u001b[0;32mexcept\u001b[0m \u001b[0mException\u001b[0m\u001b[0;34m:\u001b[0m\u001b[0;34m\u001b[0m\u001b[0m\n",
      "\u001b[0;32m/Library/Frameworks/Python.framework/Versions/3.6/lib/python3.6/site-packages/jupyter_client/session.py\u001b[0m in \u001b[0;36mrecv\u001b[0;34m(self, socket, mode, content, copy)\u001b[0m\n\u001b[1;32m    802\u001b[0m         \u001b[0;32mtry\u001b[0m\u001b[0;34m:\u001b[0m\u001b[0;34m\u001b[0m\u001b[0m\n\u001b[0;32m--> 803\u001b[0;31m             \u001b[0mmsg_list\u001b[0m \u001b[0;34m=\u001b[0m \u001b[0msocket\u001b[0m\u001b[0;34m.\u001b[0m\u001b[0mrecv_multipart\u001b[0m\u001b[0;34m(\u001b[0m\u001b[0mmode\u001b[0m\u001b[0;34m,\u001b[0m \u001b[0mcopy\u001b[0m\u001b[0;34m=\u001b[0m\u001b[0mcopy\u001b[0m\u001b[0;34m)\u001b[0m\u001b[0;34m\u001b[0m\u001b[0m\n\u001b[0m\u001b[1;32m    804\u001b[0m         \u001b[0;32mexcept\u001b[0m \u001b[0mzmq\u001b[0m\u001b[0;34m.\u001b[0m\u001b[0mZMQError\u001b[0m \u001b[0;32mas\u001b[0m \u001b[0me\u001b[0m\u001b[0;34m:\u001b[0m\u001b[0;34m\u001b[0m\u001b[0m\n",
      "\u001b[0;32m/Library/Frameworks/Python.framework/Versions/3.6/lib/python3.6/site-packages/zmq/sugar/socket.py\u001b[0m in \u001b[0;36mrecv_multipart\u001b[0;34m(self, flags, copy, track)\u001b[0m\n\u001b[1;32m    465\u001b[0m         \"\"\"\n\u001b[0;32m--> 466\u001b[0;31m         \u001b[0mparts\u001b[0m \u001b[0;34m=\u001b[0m \u001b[0;34m[\u001b[0m\u001b[0mself\u001b[0m\u001b[0;34m.\u001b[0m\u001b[0mrecv\u001b[0m\u001b[0;34m(\u001b[0m\u001b[0mflags\u001b[0m\u001b[0;34m,\u001b[0m \u001b[0mcopy\u001b[0m\u001b[0;34m=\u001b[0m\u001b[0mcopy\u001b[0m\u001b[0;34m,\u001b[0m \u001b[0mtrack\u001b[0m\u001b[0;34m=\u001b[0m\u001b[0mtrack\u001b[0m\u001b[0;34m)\u001b[0m\u001b[0;34m]\u001b[0m\u001b[0;34m\u001b[0m\u001b[0m\n\u001b[0m\u001b[1;32m    467\u001b[0m         \u001b[0;31m# have first part already, only loop while more to receive\u001b[0m\u001b[0;34m\u001b[0m\u001b[0;34m\u001b[0m\u001b[0m\n",
      "\u001b[0;32mzmq/backend/cython/socket.pyx\u001b[0m in \u001b[0;36mzmq.backend.cython.socket.Socket.recv\u001b[0;34m()\u001b[0m\n",
      "\u001b[0;32mzmq/backend/cython/socket.pyx\u001b[0m in \u001b[0;36mzmq.backend.cython.socket.Socket.recv\u001b[0;34m()\u001b[0m\n",
      "\u001b[0;32mzmq/backend/cython/socket.pyx\u001b[0m in \u001b[0;36mzmq.backend.cython.socket._recv_copy\u001b[0;34m()\u001b[0m\n",
      "\u001b[0;32m/Library/Frameworks/Python.framework/Versions/3.6/lib/python3.6/site-packages/zmq/backend/cython/checkrc.pxd\u001b[0m in \u001b[0;36mzmq.backend.cython.checkrc._check_rc\u001b[0;34m()\u001b[0m\n",
      "\u001b[0;31mKeyboardInterrupt\u001b[0m: ",
      "\nDuring handling of the above exception, another exception occurred:\n",
      "\u001b[0;31mKeyboardInterrupt\u001b[0m                         Traceback (most recent call last)",
      "\u001b[0;32m<ipython-input-2-d38f8cc01725>\u001b[0m in \u001b[0;36m<module>\u001b[0;34m()\u001b[0m\n\u001b[1;32m      1\u001b[0m \u001b[0;32mwhile\u001b[0m \u001b[0;36m1\u001b[0m\u001b[0;34m:\u001b[0m\u001b[0;34m\u001b[0m\u001b[0m\n\u001b[1;32m      2\u001b[0m     \u001b[0;31m#Get files to open\u001b[0m\u001b[0;34m\u001b[0m\u001b[0;34m\u001b[0m\u001b[0m\n\u001b[0;32m----> 3\u001b[0;31m     \u001b[0minFile\u001b[0m  \u001b[0;34m=\u001b[0m \u001b[0minput\u001b[0m\u001b[0;34m(\u001b[0m\u001b[0;34m\"Enter the input file: \"\u001b[0m\u001b[0;34m)\u001b[0m\u001b[0;34m\u001b[0m\u001b[0m\n\u001b[0m\u001b[1;32m      4\u001b[0m     \u001b[0moutFile\u001b[0m \u001b[0;34m=\u001b[0m \u001b[0minput\u001b[0m\u001b[0;34m(\u001b[0m\u001b[0;34m\"Enter the output file: \"\u001b[0m\u001b[0;34m)\u001b[0m\u001b[0;34m\u001b[0m\u001b[0m\n\u001b[1;32m      5\u001b[0m \u001b[0;34m\u001b[0m\u001b[0m\n",
      "\u001b[0;32m/Library/Frameworks/Python.framework/Versions/3.6/lib/python3.6/site-packages/ipykernel/kernelbase.py\u001b[0m in \u001b[0;36mraw_input\u001b[0;34m(self, prompt)\u001b[0m\n\u001b[1;32m    702\u001b[0m             \u001b[0mself\u001b[0m\u001b[0;34m.\u001b[0m\u001b[0m_parent_ident\u001b[0m\u001b[0;34m,\u001b[0m\u001b[0;34m\u001b[0m\u001b[0m\n\u001b[1;32m    703\u001b[0m             \u001b[0mself\u001b[0m\u001b[0;34m.\u001b[0m\u001b[0m_parent_header\u001b[0m\u001b[0;34m,\u001b[0m\u001b[0;34m\u001b[0m\u001b[0m\n\u001b[0;32m--> 704\u001b[0;31m             \u001b[0mpassword\u001b[0m\u001b[0;34m=\u001b[0m\u001b[0;32mFalse\u001b[0m\u001b[0;34m,\u001b[0m\u001b[0;34m\u001b[0m\u001b[0m\n\u001b[0m\u001b[1;32m    705\u001b[0m         )\n\u001b[1;32m    706\u001b[0m \u001b[0;34m\u001b[0m\u001b[0m\n",
      "\u001b[0;32m/Library/Frameworks/Python.framework/Versions/3.6/lib/python3.6/site-packages/ipykernel/kernelbase.py\u001b[0m in \u001b[0;36m_input_request\u001b[0;34m(self, prompt, ident, parent, password)\u001b[0m\n\u001b[1;32m    732\u001b[0m             \u001b[0;32mexcept\u001b[0m \u001b[0mKeyboardInterrupt\u001b[0m\u001b[0;34m:\u001b[0m\u001b[0;34m\u001b[0m\u001b[0m\n\u001b[1;32m    733\u001b[0m                 \u001b[0;31m# re-raise KeyboardInterrupt, to truncate traceback\u001b[0m\u001b[0;34m\u001b[0m\u001b[0;34m\u001b[0m\u001b[0m\n\u001b[0;32m--> 734\u001b[0;31m                 \u001b[0;32mraise\u001b[0m \u001b[0mKeyboardInterrupt\u001b[0m\u001b[0;34m\u001b[0m\u001b[0m\n\u001b[0m\u001b[1;32m    735\u001b[0m             \u001b[0;32melse\u001b[0m\u001b[0;34m:\u001b[0m\u001b[0;34m\u001b[0m\u001b[0m\n\u001b[1;32m    736\u001b[0m                 \u001b[0;32mbreak\u001b[0m\u001b[0;34m\u001b[0m\u001b[0m\n",
      "\u001b[0;31mKeyboardInterrupt\u001b[0m: "
     ]
    }
   ],
   "source": [
    "while 1:\n",
    "    #Get files to open\n",
    "    inFile  = input(\"Enter the input file: \")\n",
    "    outFile = input(\"Enter the output file: \")\n",
    "\n",
    "    #open files using a try statement\n",
    "    try:\n",
    "        i = open(inFile)\n",
    "        o = open(outFile, 'w')\n",
    "    except:\n",
    "        print (\"Could not open file\")\n",
    "    else:\n",
    "        #break out of the loop if we succedd at opening the file\n",
    "        break\n",
    "\n",
    "#read the lines in the file and output each line\n",
    "for line in i.readlines():\n",
    "    o.write(line)\n",
    "\n",
    "#close files\n",
    "i.close()\n",
    "o.close()"
   ]
  },
  {
   "cell_type": "markdown",
   "metadata": {
    "slideshow": {
     "slide_type": "subslide"
    }
   },
   "source": [
    "## Solution 2"
   ]
  },
  {
   "cell_type": "code",
   "execution_count": 19,
   "metadata": {},
   "outputs": [
    {
     "name": "stdout",
     "output_type": "stream",
     "text": [
      "Enter a Calculation: 10%5\n",
      "Incorrect Equation Entered\n"
     ]
    }
   ],
   "source": [
    "import re\n",
    "\n",
    "#Get a value\n",
    "query = input(\"Enter a Calculation: \")\n",
    "\n",
    "#extract pertinent nifo with re\n",
    "parsed = re.match(r'(\\d*\\.?\\d*) *([\\*/\\+\\-]) *(\\d*\\.?\\d*)', query)\n",
    "\n",
    "#wrap result calculation in a try loop to catch errors\n",
    "#this includes both divide by 0 and trying to call\n",
    "#a group if the RE didn't match\n",
    "try:\n",
    "    val1 = float(parsed.group(1))\n",
    "    val2 = float(parsed.group(3))\n",
    "\n",
    "    op = parsed.gr\n",
    "    oup(2)\n",
    "    \n",
    "    if op == '*':\n",
    "        print (val1 * val2)\n",
    "    elif op == '/':\n",
    "        print (val1 / val2)\n",
    "    elif op == '+':\n",
    "        print (val1 + val2)\n",
    "    elif op == '-':\n",
    "        print (val1 - val2)\n",
    "\n",
    "except:\n",
    "    print (\"Incorrect Equation Entered\")"
   ]
  },
  {
   "cell_type": "markdown",
   "metadata": {
    "collapsed": true,
    "slideshow": {
     "slide_type": "slide"
    }
   },
   "source": [
    "# Some Useful Modules\n",
    "\n",
    "### Utility Modules\n",
    "* sys\n",
    "* os \n",
    "* time \n",
    "* pickle\n",
    "* json\n",
    "* random\n",
    "* math"
   ]
  },
  {
   "cell_type": "code",
   "execution_count": 21,
   "metadata": {},
   "outputs": [],
   "source": [
    "import os\n"
   ]
  },
  {
   "cell_type": "code",
   "execution_count": null,
   "metadata": {},
   "outputs": [],
   "source": [
    "os."
   ]
  },
  {
   "cell_type": "markdown",
   "metadata": {
    "slideshow": {
     "slide_type": "slide"
    }
   },
   "source": [
    "# Some Useful Modules\n",
    "\n",
    "### Web Modules\n",
    "* sockets\n",
    "* htmlParser / httplib / urllib\n",
    "* ftplib\n",
    "* xml.dom\n",
    "* base64\n",
    "* json"
   ]
  },
  {
   "cell_type": "markdown",
   "metadata": {
    "slideshow": {
     "slide_type": "slide"
    }
   },
   "source": [
    "# Some Useful Modules\n",
    "\n",
    "### File Parsers\n",
    "* xml.dom\n",
    "* csv\n",
    "* zipfile\n",
    "* gzip\n",
    "* zlib"
   ]
  },
  {
   "cell_type": "markdown",
   "metadata": {
    "slideshow": {
     "slide_type": "slide"
    }
   },
   "source": [
    "# sys\n",
    "\n",
    "* Used to interact with the Python interpreter \n",
    "* `sys.argv` holds command line variables\n",
    "* `sys.argv[0]` is the script\n",
    "* `sys.argv[x]` is a string of the variable\n",
    "* `sys.exit()` - obvious\n",
    "* `sys.platform()` - identify the OS"
   ]
  },
  {
   "cell_type": "markdown",
   "metadata": {
    "slideshow": {
     "slide_type": "slide"
    }
   },
   "source": [
    "# os\n",
    "\n",
    "* Used to interact with the OS\n",
    "* Primarily used for directories\n",
    "* Also provides access to things like chmod and processes\n",
    "  * `os.system(command)`: runs command as the command line"
   ]
  },
  {
   "cell_type": "code",
   "execution_count": null,
   "metadata": {},
   "outputs": [],
   "source": []
  },
  {
   "cell_type": "markdown",
   "metadata": {
    "slideshow": {
     "slide_type": "slide"
    }
   },
   "source": [
    "# time\n",
    "\n",
    "* Used for handling things like days, months, and epoch time\n",
    "* Generally returns time objects\n",
    "  * `time.gmtime(secs)`:  converts epoch time to normal\n",
    "  * `time.gmtime()`: current system timestamp\n",
    "  * `time.strftime(format[, t])`: Prints time in format you specify\n",
    "  * `time.sleep(secs)`: used to paused for secs"
   ]
  },
  {
   "cell_type": "markdown",
   "metadata": {
    "slideshow": {
     "slide_type": "slide"
    }
   },
   "source": [
    "# time Example"
   ]
  },
  {
   "cell_type": "code",
   "execution_count": 28,
   "metadata": {},
   "outputs": [
    {
     "data": {
      "text/plain": [
       "'03-20-19'"
      ]
     },
     "execution_count": 28,
     "metadata": {},
     "output_type": "execute_result"
    }
   ],
   "source": [
    "import time\n",
    "\n",
    "currentTime = time.gmtime()\n",
    "#print current time\n",
    "time.strftime('%m-%d-%y', currentTime)"
   ]
  },
  {
   "cell_type": "markdown",
   "metadata": {
    "slideshow": {
     "slide_type": "slide"
    }
   },
   "source": [
    "# Pickle\n",
    "\n",
    "* Creates binary data out of python objects\n",
    "* Useful if you want to save data and move it between python scripts efficiently\n",
    "* The downside is it's not human readable "
   ]
  },
  {
   "cell_type": "markdown",
   "metadata": {
    "slideshow": {
     "slide_type": "slide"
    }
   },
   "source": [
    "# json\n",
    "\n",
    "* An open standard for object serialization\n",
    "* Similar to pickle in that it lets you pass data between programs\n",
    "* Human readable\n",
    "* Supports basic types as well as lists and dictionaries"
   ]
  },
  {
   "cell_type": "markdown",
   "metadata": {
    "slideshow": {
     "slide_type": "slide"
    }
   },
   "source": [
    "# random \n",
    "* This Pythons pseudo-random number generator\n",
    "* Default seed is the current system time\n",
    "* Supports a number of random type"
   ]
  },
  {
   "cell_type": "markdown",
   "metadata": {
    "slideshow": {
     "slide_type": "slide"
    }
   },
   "source": [
    "# math\n",
    "\n",
    "* The math module is used to access a number of more complicated math operations\n",
    "* This includes logs, geometric operations, and the constants for pi and e"
   ]
  },
  {
   "cell_type": "markdown",
   "metadata": {
    "slideshow": {
     "slide_type": "slide"
    }
   },
   "source": [
    "# Web Modules\n",
    "\n",
    "* Useful for interacting with websites and web based APIs\n",
    "* This will only become more important as script based analysis becomes more common\n"
   ]
  },
  {
   "cell_type": "markdown",
   "metadata": {
    "slideshow": {
     "slide_type": "slide"
    }
   },
   "source": [
    "# socket\n",
    "\n",
    "* Low level network socket module\n",
    "* Hopefully, you shouldn't have to use this"
   ]
  },
  {
   "cell_type": "markdown",
   "metadata": {
    "slideshow": {
     "slide_type": "slide"
    }
   },
   "source": [
    "# urllib\n",
    "\n",
    "* urllib – Uses sockets and httplib in a simpler interface httplib\n",
    "* use httplib for ssl and certs\n",
    "* BeautifulSoup is good for parsing the results"
   ]
  },
  {
   "cell_type": "code",
   "execution_count": 29,
   "metadata": {},
   "outputs": [
    {
     "name": "stdout",
     "output_type": "stream",
     "text": [
      "b'<!doctype html><html itemscope=\"\" itemtype=\"http://schema.org/WebPage\" lang=\"en\"><head><meta content'\n"
     ]
    }
   ],
   "source": [
    "import urllib.request\n",
    "\n",
    "r = urllib.request.urlopen('http://www.google.com')\n",
    "\n",
    "print (r.read()[0:100])"
   ]
  },
  {
   "cell_type": "markdown",
   "metadata": {
    "slideshow": {
     "slide_type": "slide"
    }
   },
   "source": [
    "# File Parsing\n",
    "\n",
    "* Python has modules to automatically parse a number of regularly used file types\n",
    "* Use these to save time instead of using plain old file opens."
   ]
  },
  {
   "cell_type": "markdown",
   "metadata": {
    "slideshow": {
     "slide_type": "slide"
    }
   },
   "source": [
    "# base64\n",
    "\n",
    "* A module for base64 decoding/encoding\n",
    "* Used in idle it's a handy way to quickly view base64 data\n",
    "* Standard call is `base64.b64decode(“Your data”)`"
   ]
  },
  {
   "cell_type": "code",
   "execution_count": 30,
   "metadata": {},
   "outputs": [],
   "source": [
    "import base64"
   ]
  },
  {
   "cell_type": "code",
   "execution_count": 38,
   "metadata": {},
   "outputs": [],
   "source": [
    "d=base64.b64decode('cGFzc3dvcmQxMjM=')"
   ]
  },
  {
   "cell_type": "code",
   "execution_count": 39,
   "metadata": {},
   "outputs": [
    {
     "data": {
      "text/plain": [
       "b'cGFzc3dvcmQxMjM='"
      ]
     },
     "execution_count": 39,
     "metadata": {},
     "output_type": "execute_result"
    }
   ],
   "source": [
    "base64.b64encode(d)"
   ]
  },
  {
   "cell_type": "markdown",
   "metadata": {
    "slideshow": {
     "slide_type": "slide"
    }
   },
   "source": [
    "# xml.dom\n",
    "\n",
    "* What is XML?\n",
    "* In a nutshell:<foo>Bar</foo>\n",
    "  * The Document Object Model is useful for parsing xml flatfiles(there are a lot of these)\n",
    "  * xml.sax also exists, not as useful\n",
    "* DOM basically treats everything as a giant tree\n",
    "* ...it's annoying, use json if you can"
   ]
  },
  {
   "cell_type": "markdown",
   "metadata": {
    "slideshow": {
     "slide_type": "slide"
    }
   },
   "source": [
    "# csv\n",
    "\n",
    "* A Python csv reader\n",
    "* Can be handy, but often times it's easier to just readline and call split(',')\n",
    "* Does have a limited ability to deal with some excel files"
   ]
  },
  {
   "cell_type": "markdown",
   "metadata": {
    "slideshow": {
     "slide_type": "slide"
    }
   },
   "source": [
    "# Gzip and zipfile\n",
    "\n",
    "* These modules are both Python native ways to deal with compressed data files\n",
    "* Allows you to open a file like a normal file\n",
    "* You can also write files directly to compressed archives\n",
    "\n",
    "## zlib\n",
    "* The underlying compression module for gzip\n",
    "* Useful when you're dealing with compressed data that isn't a .gz file\n",
    "* For example, php's “gzinflate” command"
   ]
  },
  {
   "cell_type": "markdown",
   "metadata": {
    "slideshow": {
     "slide_type": "slide"
    }
   },
   "source": [
    "# Exercise\n",
    "\n",
    "1. Write a program called diceRoller.py.  This program will take a number as a command line argument then use the random library to simulate rolling a dice with the number of sides given on the command line.\n",
    "\n",
    "2. Write program called titleScraper.py that takes a URL as a command line argument and determines the title of the page.  Hint:  look for the xml element \"title\" to find it.\n",
    "\n",
    "3. Write program that takes a gzip or zip file as an argument and then converts them to the opposite type of the same name.  For example, neatFile.zip would become neatFile.gz."
   ]
  },
  {
   "cell_type": "code",
   "execution_count": 46,
   "metadata": {},
   "outputs": [
    {
     "name": "stdout",
     "output_type": "stream",
     "text": [
      "Enter number45\n",
      "You rolled a 25\n"
     ]
    }
   ],
   "source": [
    "\n",
    "import random\n",
    "\n",
    "u=input('Enter number')\n",
    "\n",
    "if len(u) == 2:  \n",
    "    try:\n",
    "        #convert to an int and call random\n",
    "        print (\"You rolled a \" + str(random.randint(1, int(u))))\n",
    "    except:\n",
    "        print (\"No Number Given\")\n",
    "\n",
    "else:\n",
    "    print (\"Please provide a number of sides\")\n",
    "\n"
   ]
  },
  {
   "cell_type": "code",
   "execution_count": 59,
   "metadata": {},
   "outputs": [
    {
     "name": "stdout",
     "output_type": "stream",
     "text": [
      "Enter url http://www.novetta.com\n",
      "Failed to Open file\n"
     ]
    }
   ],
   "source": [
    "\n",
    "import urllib\n",
    "import xml.dom.minidom\n",
    "\n",
    "u2=input('Enter url ')\n",
    "#make sure we have arguments\n",
    "\n",
    "try:\n",
    "    page = urllib.request.urlopen(u2)  #use urllib to read the data\n",
    "    pageResults = page.read()\n",
    "    page.close()\n",
    "except:\n",
    "    print (\"Failed to Open file\")\n",
    "else:\n",
    "    try:\n",
    "            #try parse teh data with minidom\n",
    "        xmlResults = xml.dom.minidom.parseString(pageResults)\n",
    "    except:\n",
    "        print (\"Could not parse XML\")\n",
    "    else:\n",
    "            #do this ridiculously complicated lookup that should just be a regex\n",
    "        print (xmlResults.getElementsByTagName('title')[0].firstChild.nodeValue)"
   ]
  },
  {
   "cell_type": "markdown",
   "metadata": {
    "slideshow": {
     "slide_type": "subslide"
    }
   },
   "source": [
    "### Solution 1"
   ]
  },
  {
   "cell_type": "code",
   "execution_count": 40,
   "metadata": {},
   "outputs": [
    {
     "name": "stdout",
     "output_type": "stream",
     "text": [
      "Please provide a number of sides\n"
     ]
    }
   ],
   "source": [
    "import sys\n",
    "import random\n",
    "\n",
    "\n",
    "if len(sys.argv) == 2:  #make sure we have teh correct number of arguments\n",
    "    try:\n",
    "        #convert to an int and call random\n",
    "        print (\"You rolled a \" + str(random.randint(1, int(sys.argv[1]))))\n",
    "    except:\n",
    "        print (\"No Number Given\")\n",
    "\n",
    "else:\n",
    "    print (\"Please provide a number of sides\")"
   ]
  },
  {
   "cell_type": "markdown",
   "metadata": {
    "slideshow": {
     "slide_type": "subslide"
    }
   },
   "source": [
    "### Solution 2"
   ]
  },
  {
   "cell_type": "code",
   "execution_count": null,
   "metadata": {
    "collapsed": true
   },
   "outputs": [],
   "source": [
    "#Exercise 4-2 #1 Solution\n",
    "\n",
    "import sys\n",
    "import urllib\n",
    "import xml.dom.minidom\n",
    "\n",
    "#make sure we have arguments\n",
    "if len(sys.argv) == 2:\n",
    "    try:\n",
    "        page = urllib.request.urlopen(sys.argv[1])  #use urllib to read the data\n",
    "        pageResults = page.read()\n",
    "        page.close()\n",
    "    except:\n",
    "        print (\"Failed to Open file\")\n",
    "    else:\n",
    "        try:\n",
    "            #try parse teh data with minidom\n",
    "            xmlResults = xml.dom.minidom.parseString(pageResults)\n",
    "        except:\n",
    "            print (\"Could not parse XML\")\n",
    "        else:\n",
    "            #do this ridiculously complicated lookup that should just be a regex\n",
    "            print xmlResults.getElementsByTagName('title')[0].firstChild.nodeValue"
   ]
  },
  {
   "cell_type": "markdown",
   "metadata": {
    "slideshow": {
     "slide_type": "subslide"
    }
   },
   "source": [
    "### Solution 3"
   ]
  },
  {
   "cell_type": "code",
   "execution_count": null,
   "metadata": {
    "collapsed": true
   },
   "outputs": [],
   "source": [
    "import gzip\n",
    "import zipfile\n",
    "import sys\n",
    "\n",
    "inputFileName = sys.argv[1]\n",
    "\n",
    "#check if it's a zip file\n",
    "if inputFileName[-4:] == '.zip':\n",
    "    #open our zip reader\n",
    "    zipReader = zipfile.ZipFile(inputFileName)\n",
    "\n",
    "    #read in the data\n",
    "    data = zipReader.read(zipReader.namelist()[0])\n",
    "\n",
    "    #write the data as a gz file\n",
    "    outFileName = inputFileName.replace('.zip', '.gz')\n",
    "    gzWriter = gzip.open(outFileName, 'wb')\n",
    "    gzWriter.write(data)\n",
    "    gzWriter.close()\n",
    "    zipReader.close()\n",
    "    #check if the data is a gzip file\n",
    "elif inputFileName[-3:] == '.gz':\n",
    "\n",
    "    #read in our data\n",
    "    gzReader = gzip.open(inputFileName, 'r')\n",
    "    outputFileName = inputFileName.replace('.gz', '.zip')\n",
    "    zipWriter = zipfile.ZipFile(outputFileName, 'w')\n",
    "    data = gzReader.read()\n",
    "    #write out our data\n",
    "    zipWriter.write(outputFileName[:-4])\n",
    "    zipWriter.close()\n",
    "    gzReader.close()\n",
    "else:\n",
    "    print (\"Not an archive file\")"
   ]
  },
  {
   "cell_type": "markdown",
   "metadata": {
    "slideshow": {
     "slide_type": "slide"
    }
   },
   "source": [
    "# And that's it\n",
    "\n",
    "* There are many, many more modules\n",
    "* just google and you can probably find an answer"
   ]
  }
 ],
 "metadata": {
  "celltoolbar": "Slideshow",
  "kernelspec": {
   "display_name": "Python 3",
   "language": "python",
   "name": "python3"
  }
 },
 "nbformat": 4,
 "nbformat_minor": 1
}
