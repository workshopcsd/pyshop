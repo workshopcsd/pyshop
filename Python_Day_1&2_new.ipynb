{
 "cells": [
  {
   "cell_type": "markdown",
   "metadata": {
    "slideshow": {
     "slide_type": "slide"
    }
   },
   "source": [
    "# Introduction To Python\n",
    "## Day 1: Basic Data Structures and Conditionals"
   ]
  },
  {
   "cell_type": "markdown",
   "metadata": {
    "slideshow": {
     "slide_type": "slide"
    }
   },
   "source": [
    "# Python at a Glance\n",
    "\n",
    "* An interpreted language\n",
    "  * Code is run by a python interpreter and  not directly on the computer\n",
    "  * Source code is turned into byte code and run by the interpreter(.pyc)\n",
    "  * Python code runs basically* the same on Windows, Unix or anything else with \n"
   ]
  },
  {
   "cell_type": "markdown",
   "metadata": {
    "slideshow": {
     "slide_type": "slide"
    }
   },
   "source": [
    "# Python at a Glance\n",
    "\n",
    "* Dynamic Typing\n",
    "  * No need to declare variables\n",
    "  * Memory management is handled by the interpreter\n",
    "* Intuitive Syntax\n",
    " * No ridiculous semi-colons\n",
    "* A lot of built in functionality\n",
    "  * A huge number of modules built in\n",
    "  * More specialized ones available open source"
   ]
  },
  {
   "cell_type": "markdown",
   "metadata": {
    "slideshow": {
     "slide_type": "slide"
    }
   },
   "source": [
    "# Getting Started\n",
    "\n",
    "* Two different current versions 2.7+ and 3+\n",
    "  * We're Upgrading to 3, because it's the 21st century!\n",
    "* Download at http://www.python.org/download/\n",
    "  * Documentation Located at http://docs.python.org"
   ]
  },
  {
   "cell_type": "markdown",
   "metadata": {
    "slideshow": {
     "slide_type": "slide"
    }
   },
   "source": [
    "# How to Run Python\n",
    "\n",
    "* Interactive Interpreter\n",
    "  * There are a number of interactive interpreters (in fact these slides are made using the iPython interpreter)\n",
    "  * The Idle interpeter comes with most python builds\n",
    "  * Interactive mode can also be accessed by typing \"python\" at a command line\n",
    "\n",
    "* Python Scripts\n",
    "  * Python scripts are run by simply typing `python scriptName.py args` at the command line\n",
    "  * Some systems are also configured to simply let users click on .py files\n",
    "* For the most part this class will encourage using the intepreter interactively, but with a saved script.  In Idle this means opening a new window, typing code, and hitting f5 to run it."
   ]
  },
  {
   "cell_type": "markdown",
   "metadata": {
    "slideshow": {
     "slide_type": "slide"
    }
   },
   "source": [
    "# ipython Example\n",
    "\n",
    "iPython works a bit differently since each chunk of code is run when you tell it in the brower.  For example..."
   ]
  },
  {
   "cell_type": "code",
   "execution_count": 7,
   "metadata": {},
   "outputs": [
    {
     "name": "stdout",
     "output_type": "stream",
     "text": [
      "Hello World\n"
     ]
    }
   ],
   "source": [
    "print(\"Hello World\")"
   ]
  },
  {
   "cell_type": "code",
   "execution_count": 8,
   "metadata": {},
   "outputs": [
    {
     "name": "stdout",
     "output_type": "stream",
     "text": [
      "4\n"
     ]
    }
   ],
   "source": [
    "print(1 + 3)"
   ]
  },
  {
   "cell_type": "code",
   "execution_count": 9,
   "metadata": {},
   "outputs": [
    {
     "name": "stdout",
     "output_type": "stream",
     "text": [
      "1\n",
      "2\n",
      "3\n"
     ]
    }
   ],
   "source": [
    "for list_item in [1, 2, 3]:\n",
    "    print (list_item)"
   ]
  },
  {
   "cell_type": "markdown",
   "metadata": {
    "slideshow": {
     "slide_type": "slide"
    }
   },
   "source": [
    "# Comments\n",
    "\n",
    "* Comments are used to denote characters that are not part of the code.   \n",
    "* A good coding practice is to always comment what you are intending to do\n",
    "* Comments are done using the `#` in python"
   ]
  },
  {
   "cell_type": "code",
   "execution_count": 10,
   "metadata": {},
   "outputs": [
    {
     "name": "stdout",
     "output_type": "stream",
     "text": [
      "This is not a comment\n"
     ]
    }
   ],
   "source": [
    "#Comment Example\n",
    "print('This is not a comment')\n",
    "#print('but this is')"
   ]
  },
  {
   "cell_type": "markdown",
   "metadata": {
    "slideshow": {
     "slide_type": "slide"
    }
   },
   "source": [
    "# Obligatory Hello World\n",
    "\n",
    "* Every coding class starts with an example like this to output something you can read.\n",
    "  * You've basically already seen it"
   ]
  },
  {
   "cell_type": "code",
   "execution_count": 11,
   "metadata": {},
   "outputs": [
    {
     "name": "stdout",
     "output_type": "stream",
     "text": [
      "Hello World\n"
     ]
    }
   ],
   "source": [
    "#we just type the print function print() with quotes around what we want to print\n",
    "print(\"Hello World\")"
   ]
  },
  {
   "cell_type": "markdown",
   "metadata": {},
   "source": [
    "* If you ran that as a script it would produce the same output."
   ]
  },
  {
   "cell_type": "markdown",
   "metadata": {
    "slideshow": {
     "slide_type": "slide"
    }
   },
   "source": [
    "# An Aside About Print: Formatted Strings\n",
    "\n",
    "* `print` is the basic output statement\n",
    "  * Sends variables, strings, or whatever to standard out by default\n",
    "  * Can also do more advanced formatting with %\n",
    "* This is very useful for making diagnostic print statements."
   ]
  },
  {
   "cell_type": "code",
   "execution_count": 12,
   "metadata": {},
   "outputs": [
    {
     "name": "stdout",
     "output_type": "stream",
     "text": [
      "output: This\n",
      "output: 27\n"
     ]
    }
   ],
   "source": [
    "print('output: %s' % 'This')\n",
    "print(\"output: %d\" % 27)"
   ]
  },
  {
   "cell_type": "markdown",
   "metadata": {},
   "source": [
    "* Very similar to c\n",
    "* More documentation at https://docs.python.org/2/library/string.html#format-string-syntax"
   ]
  },
  {
   "cell_type": "markdown",
   "metadata": {
    "slideshow": {
     "slide_type": "slide"
    }
   },
   "source": [
    "# Basic Data Structures\n",
    "\n",
    "### What is a Variable?\n",
    "* A variable is an allocated space in memory to hold data with a unique referenced name in the code.\n",
    "\n",
    "### What is a Data Type?\n",
    "* The \"type\" of an object, whether it's a number, a string of characters, etc., tells the kernel how that object should behave and what built-in functions it possesses. As mentioned above, Python uses \"dynamic typing,\" so unlike in other languages, we don't need to explicitly say whether a variable is going to be an int, string, etc. The kernel figures it out on the fly."
   ]
  },
  {
   "cell_type": "code",
   "execution_count": 1,
   "metadata": {
    "slideshow": {
     "slide_type": "subslide"
    }
   },
   "outputs": [
    {
     "name": "stdout",
     "output_type": "stream",
     "text": [
      "HELLO WORLD\n"
     ]
    }
   ],
   "source": [
    "\"hello world\".upper()"
   ]
  },
  {
   "cell_type": "code",
   "execution_count": 4,
   "metadata": {
    "slideshow": {
     "slide_type": "fragment"
    }
   },
   "outputs": [
    {
     "data": {
      "text/plain": [
       "51"
      ]
     },
     "execution_count": 4,
     "metadata": {},
     "output_type": "execute_result"
    }
   ],
   "source": [
    "intExample = 46\n",
    "intExample + 5"
   ]
  },
  {
   "cell_type": "code",
   "execution_count": 5,
   "metadata": {
    "slideshow": {
     "slide_type": "fragment"
    }
   },
   "outputs": [
    {
     "ename": "AttributeError",
     "evalue": "'int' object has no attribute 'upper'",
     "output_type": "error",
     "traceback": [
      "\u001b[1;31m---------------------------------------------------------------------------\u001b[0m",
      "\u001b[1;31mAttributeError\u001b[0m                            Traceback (most recent call last)",
      "\u001b[1;32m<ipython-input-5-2e1f2a433557>\u001b[0m in \u001b[0;36m<module>\u001b[1;34m\u001b[0m\n\u001b[1;32m----> 1\u001b[1;33m \u001b[0mintExample\u001b[0m\u001b[1;33m.\u001b[0m\u001b[0mupper\u001b[0m\u001b[1;33m(\u001b[0m\u001b[1;33m)\u001b[0m\u001b[1;33m\u001b[0m\u001b[1;33m\u001b[0m\u001b[0m\n\u001b[0m",
      "\u001b[1;31mAttributeError\u001b[0m: 'int' object has no attribute 'upper'"
     ]
    }
   ],
   "source": [
    "intExample.upper()"
   ]
  },
  {
   "cell_type": "code",
   "execution_count": 6,
   "metadata": {
    "slideshow": {
     "slide_type": "fragment"
    }
   },
   "outputs": [
    {
     "ename": "TypeError",
     "evalue": "can only concatenate str (not \"int\") to str",
     "output_type": "error",
     "traceback": [
      "\u001b[1;31m---------------------------------------------------------------------------\u001b[0m",
      "\u001b[1;31mTypeError\u001b[0m                                 Traceback (most recent call last)",
      "\u001b[1;32m<ipython-input-6-dd5b23a79eaf>\u001b[0m in \u001b[0;36m<module>\u001b[1;34m\u001b[0m\n\u001b[1;32m----> 1\u001b[1;33m \u001b[0mprint\u001b[0m\u001b[1;33m(\u001b[0m\u001b[1;34m\"hello world\"\u001b[0m \u001b[1;33m+\u001b[0m \u001b[1;36m5\u001b[0m\u001b[1;33m)\u001b[0m\u001b[1;33m\u001b[0m\u001b[1;33m\u001b[0m\u001b[0m\n\u001b[0m",
      "\u001b[1;31mTypeError\u001b[0m: can only concatenate str (not \"int\") to str"
     ]
    }
   ],
   "source": [
    "print(\"hello world\" + 5)"
   ]
  },
  {
   "cell_type": "markdown",
   "metadata": {
    "slideshow": {
     "slide_type": "slide"
    }
   },
   "source": [
    "# Basic Data Structures\n",
    "\n",
    "### Numbers\n",
    "* Functionally two types of numbers \n",
    "  * Integers(int) – whole number\n",
    "  * Floating pointing (float) – decimal numbers\n",
    "* Python (and most computers) use to treat these diffently when doing math.  Python 3 does not, but still be careful"
   ]
  },
  {
   "cell_type": "code",
   "execution_count": 13,
   "metadata": {
    "slideshow": {
     "slide_type": "fragment"
    }
   },
   "outputs": [
    {
     "name": "stdout",
     "output_type": "stream",
     "text": [
      "1\n",
      "1.5\n",
      "1.5\n"
     ]
    }
   ],
   "source": [
    "#Integer Division (cheating for our example)\n",
    "print(3//2)\n",
    "#py 3 results\n",
    "print(3/2)\n",
    "#floats\n",
    "print(3.0/2.0)"
   ]
  },
  {
   "cell_type": "markdown",
   "metadata": {
    "slideshow": {
     "slide_type": "slide"
    }
   },
   "source": [
    "# Basic Data Structures\n",
    "\n",
    "* Strings – combinations of text with one or more characters surrounded by ' ' or “”\n",
    "  * A lot languages treat single characters and strings differently.  Not Python.\n",
    "  * Certain characters need to be escaped with “\\” (example \\n)"
   ]
  },
  {
   "cell_type": "code",
   "execution_count": 14,
   "metadata": {
    "slideshow": {
     "slide_type": "-"
    }
   },
   "outputs": [
    {
     "name": "stdout",
     "output_type": "stream",
     "text": [
      "This is a string with quotes\n"
     ]
    }
   ],
   "source": [
    "print(\"This is a string with quotes\")"
   ]
  },
  {
   "cell_type": "code",
   "execution_count": 15,
   "metadata": {},
   "outputs": [
    {
     "name": "stdout",
     "output_type": "stream",
     "text": [
      "Now with \"single\"quotes\n"
     ]
    }
   ],
   "source": [
    "print('Now with \"single\"quotes')"
   ]
  },
  {
   "cell_type": "code",
   "execution_count": 16,
   "metadata": {},
   "outputs": [
    {
     "name": "stdout",
     "output_type": "stream",
     "text": [
      "Or we can insert\n",
      "new lines via \\\n"
     ]
    }
   ],
   "source": [
    "print(\"Or we can insert\\nnew lines via \\\\\")"
   ]
  },
  {
   "cell_type": "markdown",
   "metadata": {
    "slideshow": {
     "slide_type": "slide"
    }
   },
   "source": [
    "# Basic Data Structures\n",
    "\n",
    "* Booleans – true or false values\n",
    "  * True or False keywords (note caps)\n",
    "  * Equivalent to 0 and not 0"
   ]
  },
  {
   "cell_type": "code",
   "execution_count": 17,
   "metadata": {
    "slideshow": {
     "slide_type": "-"
    }
   },
   "outputs": [
    {
     "name": "stdout",
     "output_type": "stream",
     "text": [
      "Truth\n",
      "Even Truer\n"
     ]
    }
   ],
   "source": [
    "#Using if statements to make a point.  More on these later\n",
    "if True:\n",
    "    print('Truth')\n",
    "    \n",
    "if 42:\n",
    "    print('Even Truer')"
   ]
  },
  {
   "cell_type": "code",
   "execution_count": 18,
   "metadata": {},
   "outputs": [],
   "source": [
    "if False:\n",
    "    print('Not gonna print')\n",
    "if 0:\n",
    "    print('no, Seriously')"
   ]
  },
  {
   "cell_type": "markdown",
   "metadata": {
    "slideshow": {
     "slide_type": "slide"
    }
   },
   "source": [
    "# Type Conversions\n",
    "\n",
    "* Python is pretty smart about converting between basic data types just call int() or str() on the variable\n",
    "* In the case of strings, make sure to check the character is a digit by calling .isdigit()"
   ]
  },
  {
   "cell_type": "code",
   "execution_count": 19,
   "metadata": {
    "slideshow": {
     "slide_type": "-"
    }
   },
   "outputs": [
    {
     "data": {
      "text/plain": [
       "3"
      ]
     },
     "execution_count": 19,
     "metadata": {},
     "output_type": "execute_result"
    }
   ],
   "source": [
    "#convert a string to an int\n",
    "int(\"3\")"
   ]
  },
  {
   "cell_type": "code",
   "execution_count": 20,
   "metadata": {},
   "outputs": [
    {
     "data": {
      "text/plain": [
       "'5'"
      ]
     },
     "execution_count": 20,
     "metadata": {},
     "output_type": "execute_result"
    }
   ],
   "source": [
    "#convert int to a string\n",
    "str(5)"
   ]
  },
  {
   "cell_type": "code",
   "execution_count": 21,
   "metadata": {},
   "outputs": [
    {
     "data": {
      "text/plain": [
       "True"
      ]
     },
     "execution_count": 21,
     "metadata": {},
     "output_type": "execute_result"
    }
   ],
   "source": [
    "#Check if the string 5 is a digit\n",
    "\"5\".isdigit()"
   ]
  },
  {
   "cell_type": "code",
   "execution_count": 22,
   "metadata": {},
   "outputs": [
    {
     "data": {
      "text/plain": [
       "False"
      ]
     },
     "execution_count": 22,
     "metadata": {},
     "output_type": "execute_result"
    }
   ],
   "source": [
    "#Check if A is a digit\n",
    "'A'.isdigit()"
   ]
  },
  {
   "cell_type": "markdown",
   "metadata": {
    "slideshow": {
     "slide_type": "slide"
    }
   },
   "source": [
    "# Basic Operations\n",
    "\n",
    "* Variables and the Assignment Operator\n",
    "  * A variable is any combination characters, numbers, and _(that are not reserved words)\n",
    "* Values assigned to variables using `=`\n",
    "  * Assigns right side value to the left side"
   ]
  },
  {
   "cell_type": "code",
   "execution_count": 23,
   "metadata": {
    "slideshow": {
     "slide_type": "fragment"
    }
   },
   "outputs": [],
   "source": [
    "#assign the value of 5 to the variable x\n",
    "x = 5\n",
    "\n",
    "#assign the value of Hello to y\n",
    "y = 'Hello'\n",
    "\n",
    "#we can also variables to variables\n",
    "z = x"
   ]
  },
  {
   "cell_type": "code",
   "execution_count": 24,
   "metadata": {
    "slideshow": {
     "slide_type": "fragment"
    }
   },
   "outputs": [
    {
     "name": "stdout",
     "output_type": "stream",
     "text": [
      "5\n"
     ]
    }
   ],
   "source": [
    "print(x)"
   ]
  },
  {
   "cell_type": "code",
   "execution_count": 25,
   "metadata": {
    "slideshow": {
     "slide_type": "fragment"
    }
   },
   "outputs": [
    {
     "name": "stdout",
     "output_type": "stream",
     "text": [
      "Hello\n"
     ]
    }
   ],
   "source": [
    "print(y)"
   ]
  },
  {
   "cell_type": "code",
   "execution_count": 26,
   "metadata": {
    "slideshow": {
     "slide_type": "fragment"
    }
   },
   "outputs": [
    {
     "name": "stdout",
     "output_type": "stream",
     "text": [
      "5\n"
     ]
    }
   ],
   "source": [
    "print(z)"
   ]
  },
  {
   "cell_type": "markdown",
   "metadata": {
    "slideshow": {
     "slide_type": "subslide"
    }
   },
   "source": [
    "* The nice thing about variables is that they can be reassigned at will"
   ]
  },
  {
   "cell_type": "code",
   "execution_count": 27,
   "metadata": {},
   "outputs": [
    {
     "name": "stdout",
     "output_type": "stream",
     "text": [
      "Hello\n"
     ]
    }
   ],
   "source": [
    "z = y\n",
    "print(z)"
   ]
  },
  {
   "cell_type": "markdown",
   "metadata": {
    "slideshow": {
     "slide_type": "slide"
    }
   },
   "source": [
    "# Basic Operations\n",
    "\n",
    "* Arithmetic Operators\n",
    "  * `+ - * /` : Basic math stuff\n",
    "  * `% **` : Modulus and exponents"
   ]
  },
  {
   "cell_type": "code",
   "execution_count": 28,
   "metadata": {
    "slideshow": {
     "slide_type": "fragment"
    }
   },
   "outputs": [
    {
     "name": "stdout",
     "output_type": "stream",
     "text": [
      "9\n"
     ]
    }
   ],
   "source": [
    "#addition works as expected\n",
    "print(5+4)"
   ]
  },
  {
   "cell_type": "code",
   "execution_count": 29,
   "metadata": {
    "slideshow": {
     "slide_type": "fragment"
    }
   },
   "outputs": [
    {
     "name": "stdout",
     "output_type": "stream",
     "text": [
      "1\n"
     ]
    }
   ],
   "source": [
    "#as does subtraction\n",
    "print(5-4)"
   ]
  },
  {
   "cell_type": "code",
   "execution_count": 30,
   "metadata": {
    "slideshow": {
     "slide_type": "fragment"
    }
   },
   "outputs": [
    {
     "name": "stdout",
     "output_type": "stream",
     "text": [
      "11\n"
     ]
    }
   ],
   "source": [
    "#note that the order of operations is still in effect\n",
    "print( 1+ 2 * 5)"
   ]
  },
  {
   "cell_type": "code",
   "execution_count": 31,
   "metadata": {
    "slideshow": {
     "slide_type": "fragment"
    }
   },
   "outputs": [
    {
     "name": "stdout",
     "output_type": "stream",
     "text": [
      "2\n"
     ]
    }
   ],
   "source": [
    "#Modulus is just finding the remainder, which is handy for some tasks\n",
    "print(7 % 5)"
   ]
  },
  {
   "cell_type": "markdown",
   "metadata": {
    "slideshow": {
     "slide_type": "slide"
    }
   },
   "source": [
    "# Basic Operations\n",
    "\n",
    "* In almost all cases these are used in conjunction with assignment operators and variables\n",
    "* It's also pretty rare to use hard coded values so a lot of times you'll be assigning variables to other variables"
   ]
  },
  {
   "cell_type": "code",
   "execution_count": 32,
   "metadata": {
    "slideshow": {
     "slide_type": "fragment"
    }
   },
   "outputs": [
    {
     "name": "stdout",
     "output_type": "stream",
     "text": [
      "11.0\n"
     ]
    }
   ],
   "source": [
    "x = 2+ 2\n",
    "y = 7 **2 / 7\n",
    "print(x+y)"
   ]
  },
  {
   "cell_type": "markdown",
   "metadata": {
    "slideshow": {
     "slide_type": "slide"
    }
   },
   "source": [
    "# Getting Input From the User\n",
    "\n",
    "* Especially during early code you'll want to prompt the user for input\n",
    "* This is done with `input`  \n"
   ]
  },
  {
   "cell_type": "code",
   "execution_count": 33,
   "metadata": {
    "slideshow": {
     "slide_type": "-"
    }
   },
   "outputs": [
    {
     "name": "stdout",
     "output_type": "stream",
     "text": [
      "Enter Input: hello\n",
      "hello\n"
     ]
    }
   ],
   "source": [
    "x = input(\"Enter Input: \")\n",
    "print(x)\n"
   ]
  },
  {
   "cell_type": "markdown",
   "metadata": {
    "slideshow": {
     "slide_type": "slide"
    }
   },
   "source": [
    "# Lab 1"
   ]
  },
  {
   "cell_type": "markdown",
   "metadata": {
    "slideshow": {
     "slide_type": "slide"
    }
   },
   "source": [
    "# Comparison Operations\n",
    "\n",
    "* Assigning values is useful, but comparing values is also critical for automating anything.\n",
    "\n",
    "* Comparison Operators\n",
    "  * Compare two values and returns boolean\n",
    "  * `x == y` :  x equals y?\n",
    "  * `x < y` : x less than y?\n",
    "  * `x >= y` : x greater than or equal y?\n",
    "  * `x != y` : x not equal to y\n",
    "* Logical operators (and, or, not) can be used in conjunction with comparators"
   ]
  },
  {
   "cell_type": "code",
   "execution_count": 6,
   "metadata": {
    "slideshow": {
     "slide_type": "subslide"
    }
   },
   "outputs": [
    {
     "name": "stdout",
     "output_type": "stream",
     "text": [
      "True\n"
     ]
    }
   ],
   "source": [
    "print( 5 == 5 )"
   ]
  },
  {
   "cell_type": "code",
   "execution_count": 35,
   "metadata": {},
   "outputs": [
    {
     "name": "stdout",
     "output_type": "stream",
     "text": [
      "False\n"
     ]
    }
   ],
   "source": [
    "print(7 != 7)"
   ]
  },
  {
   "cell_type": "code",
   "execution_count": 36,
   "metadata": {},
   "outputs": [
    {
     "name": "stdout",
     "output_type": "stream",
     "text": [
      "True\n"
     ]
    }
   ],
   "source": [
    "print(8 > 6)"
   ]
  },
  {
   "cell_type": "code",
   "execution_count": 37,
   "metadata": {},
   "outputs": [
    {
     "name": "stdout",
     "output_type": "stream",
     "text": [
      "True\n"
     ]
    }
   ],
   "source": [
    "print( not 1 == 11)"
   ]
  },
  {
   "cell_type": "code",
   "execution_count": 38,
   "metadata": {},
   "outputs": [
    {
     "name": "stdout",
     "output_type": "stream",
     "text": [
      "False\n"
     ]
    }
   ],
   "source": [
    "print( 4 == 4 and 5 == 4)"
   ]
  },
  {
   "cell_type": "code",
   "execution_count": 39,
   "metadata": {},
   "outputs": [
    {
     "name": "stdout",
     "output_type": "stream",
     "text": [
      "True\n"
     ]
    }
   ],
   "source": [
    "print ( 4 == 4 and 5 > 4)"
   ]
  },
  {
   "cell_type": "markdown",
   "metadata": {
    "slideshow": {
     "slide_type": "slide"
    }
   },
   "source": [
    "# Control Flow Statements\n",
    "\n",
    "* Data is great, but the main logic of the program is made up of control statements(and basic operations)\n",
    "* There are basically two major categories of control statements in Python, conditionals and loops.  We'll start with conditionals"
   ]
  },
  {
   "cell_type": "markdown",
   "metadata": {
    "slideshow": {
     "slide_type": "slide"
    }
   },
   "source": [
    "# Conditional Statements\n",
    "\n",
    "* Conditional statements run a  test and then use the result to determine the next step in the program\n",
    "* Abstractly it's of the form: “If something is true, then do this”.  Otherwise, do something else\n",
    "* Python implements this with the creatively named `if` command"
   ]
  },
  {
   "cell_type": "markdown",
   "metadata": {
    "slideshow": {
     "slide_type": "slide"
    }
   },
   "source": [
    "# Conditional Statements\n",
    "* Syntax: `if test: <Code to execute>`\n",
    "* Note the the colon is required\n",
    "* The test generally uses a comparator"
   ]
  },
  {
   "cell_type": "code",
   "execution_count": 8,
   "metadata": {
    "slideshow": {
     "slide_type": "fragment"
    }
   },
   "outputs": [
    {
     "ename": "TypeError",
     "evalue": "%d format: a number is required, not str",
     "output_type": "error",
     "traceback": [
      "\u001b[0;31m---------------------------------------------------------------------------\u001b[0m",
      "\u001b[0;31mTypeError\u001b[0m                                 Traceback (most recent call last)",
      "\u001b[0;32m<ipython-input-8-732246025e7c>\u001b[0m in \u001b[0;36m<module>\u001b[0;34m()\u001b[0m\n\u001b[1;32m      2\u001b[0m \u001b[0;34m\u001b[0m\u001b[0m\n\u001b[1;32m      3\u001b[0m \u001b[0;32mif\u001b[0m \u001b[0mx\u001b[0m \u001b[0;34m==\u001b[0m \u001b[0;34m'2'\u001b[0m\u001b[0;34m:\u001b[0m\u001b[0;34m\u001b[0m\u001b[0m\n\u001b[0;32m----> 4\u001b[0;31m     \u001b[0mprint\u001b[0m\u001b[0;34m(\u001b[0m\u001b[0;34m\"X is equal to %d\"\u001b[0m \u001b[0;34m%\u001b[0m \u001b[0mx\u001b[0m\u001b[0;34m)\u001b[0m\u001b[0;34m\u001b[0m\u001b[0m\n\u001b[0m",
      "\u001b[0;31mTypeError\u001b[0m: %d format: a number is required, not str"
     ]
    }
   ],
   "source": [
    "x = 2\n",
    "\n",
    "if x == 2:\n",
    "    print(\"X is equal to %d\" % x)"
   ]
  },
  {
   "cell_type": "markdown",
   "metadata": {
    "slideshow": {
     "slide_type": "slide"
    }
   },
   "source": [
    "# A Brief Aside on Indentation\n",
    "\n",
    "* Nesting “if” statements and other control statements can cause ambiguity when the program is actually run(dangling elses)\n",
    "* A lot of languages deal with this via some explicit designators such  {} or ()\n",
    "* Python uses uniform indentation to improve readability.  Tabs are recommended, but any consistent number of spaces will work"
   ]
  },
  {
   "cell_type": "markdown",
   "metadata": {
    "slideshow": {
     "slide_type": "slide"
    }
   },
   "source": [
    "# if Statements\n",
    "\n",
    "* Basic if statements only run the code if the test passes.  To do something if it fails use `else`\n",
    "* Only one else is allowed."
   ]
  },
  {
   "cell_type": "code",
   "execution_count": 41,
   "metadata": {
    "slideshow": {
     "slide_type": "fragment"
    }
   },
   "outputs": [
    {
     "name": "stdout",
     "output_type": "stream",
     "text": [
      "X is not equal 2\n"
     ]
    }
   ],
   "source": [
    "x = 3\n",
    "\n",
    "if x == 2:\n",
    "    print(\"X is equal to %d\" % x)\n",
    "else:\n",
    "    print(\"X is not equal 2\")"
   ]
  },
  {
   "cell_type": "markdown",
   "metadata": {
    "slideshow": {
     "slide_type": "slide"
    }
   },
   "source": [
    "# if Statements\n",
    "\n",
    "*To check for multiple conditions sequentially use the else if keyword `elif`"
   ]
  },
  {
   "cell_type": "code",
   "execution_count": 42,
   "metadata": {
    "slideshow": {
     "slide_type": "fragment"
    }
   },
   "outputs": [
    {
     "name": "stdout",
     "output_type": "stream",
     "text": [
      "x is equal to 3\n"
     ]
    }
   ],
   "source": [
    "x = 3\n",
    "\n",
    "if x == 2:\n",
    "    print(\"x is equal to %d\" % x)\n",
    "elif x == 3:\n",
    "    print('x is equal to 3')\n",
    "else:\n",
    "    print(\"x is not equal 2\")"
   ]
  },
  {
   "cell_type": "markdown",
   "metadata": {
    "slideshow": {
     "slide_type": "slide"
    }
   },
   "source": [
    "# if Statement\n",
    "\n",
    "* Tips on if statements\n",
    "  * Empty lists( [] or {}) are considered false(more on these later)\n",
    "  * None is considered false\n",
    "  * Any variable is considered true unless it's explicitly False, None, 0, or empty\n",
    "  * However, testing a non-existent variable will throw an exception"
   ]
  },
  {
   "cell_type": "markdown",
   "metadata": {
    "slideshow": {
     "slide_type": "slide"
    }
   },
   "source": [
    "# Lab 2"
   ]
  },
  {
   "cell_type": "markdown",
   "metadata": {
    "slideshow": {
     "slide_type": "slide"
    }
   },
   "source": [
    "#Composite Data Structures\n",
    "\n",
    "* Tuples\n",
    "  * Composite data type of two or more values separated by , and surrounded by ()\n",
    "  * They are \"immutable\", meaning once they are created, their values cannot be changed.\n",
    "* For example: `(1, 2)`\n",
    "* They are generally accessed via a 0 based index number surrounded by []"
   ]
  },
  {
   "cell_type": "code",
   "execution_count": 8,
   "metadata": {
    "slideshow": {
     "slide_type": "fragment"
    }
   },
   "outputs": [
    {
     "name": "stdout",
     "output_type": "stream",
     "text": [
      "2\n",
      "3\n"
     ]
    }
   ],
   "source": [
    "#Create a small tuple\n",
    "tup = (2, 3)\n",
    "\n",
    "#get the first element by accessing it via index \n",
    "print(tup[0])\n",
    "\n",
    "#get the second element\n",
    "print(tup[1])"
   ]
  },
  {
   "cell_type": "markdown",
   "metadata": {
    "slideshow": {
     "slide_type": "slide"
    }
   },
   "source": [
    "# Lists\n",
    "\n",
    "* Lists are a sequence of values stored in the same variable and accessed with an index just like tuples\n",
    "  * However you can change the number of elements in a list\n",
    "  * You can also redefine individual elements by accessing them directly.\n",
    "* Much like arrays in older languages but without memory management\n",
    "* Strings are similar to lists of characters\n",
    "* lists are created in the format `[item1, item2, ...]`"
   ]
  },
  {
   "cell_type": "code",
   "execution_count": 10,
   "metadata": {
    "slideshow": {
     "slide_type": "fragment"
    }
   },
   "outputs": [],
   "source": [
    "#create an empty list\n",
    "empty = []\n",
    "\n",
    "#create a list of numbers\n",
    "list1 = [1,2,3,4]\n"
   ]
  },
  {
   "cell_type": "markdown",
   "metadata": {
    "slideshow": {
     "slide_type": "slide"
    }
   },
   "source": [
    "# Lists\n",
    "\n",
    "* Items in a list are accessed with a numeric  index specified in brackets\n",
    "* Index is 0 based"
   ]
  },
  {
   "cell_type": "code",
   "execution_count": 45,
   "metadata": {
    "slideshow": {
     "slide_type": "fragment"
    }
   },
   "outputs": [
    {
     "name": "stdout",
     "output_type": "stream",
     "text": [
      "1\n",
      "4\n"
     ]
    }
   ],
   "source": [
    "#get the first element of l\n",
    "print(list1[0])\n",
    "\n",
    "#and get the last element\n",
    "print(list1[3])"
   ]
  },
  {
   "cell_type": "markdown",
   "metadata": {
    "slideshow": {
     "slide_type": "slide"
    }
   },
   "source": [
    "# Lists\n",
    "\n",
    "* Remember lists can be pretty much anything\n",
    "* Can consists of multiple types of data\n",
    "* Can consist of other lists\n",
    "* Accessed via multiple indexes (multi dimensional lists)"
   ]
  },
  {
   "cell_type": "markdown",
   "metadata": {
    "slideshow": {
     "slide_type": "subslide"
    }
   },
   "source": [
    "### A Multitype List"
   ]
  },
  {
   "cell_type": "code",
   "execution_count": null,
   "metadata": {},
   "outputs": [],
   "source": [
    "multi = [1, 'a', 3.0]\n",
    "\n",
    "print('The first element is a %d but the second is %s' % (multi[0], multi[1]))"
   ]
  },
  {
   "cell_type": "markdown",
   "metadata": {
    "slideshow": {
     "slide_type": "subslide"
    }
   },
   "source": [
    "### A List of Lists"
   ]
  },
  {
   "cell_type": "code",
   "execution_count": 11,
   "metadata": {},
   "outputs": [
    {
     "name": "stdout",
     "output_type": "stream",
     "text": [
      "First Element of first list is 1\n",
      "The second element of the second is 5\n"
     ]
    }
   ],
   "source": [
    "listOfLists = [[1,2,3], [4,5,6]]\n",
    "\n",
    "print('First Element of first list is %d\\nThe second element of the second is %d' % (listOfLists[0][0], listOfLists[1][1]))"
   ]
  },
  {
   "cell_type": "markdown",
   "metadata": {
    "slideshow": {
     "slide_type": "slide"
    }
   },
   "source": [
    "# List Operations\n",
    "\n",
    "* Lists get their own set set of operators\n",
    "* `in` tests whether an item is in the list\n",
    "* For strings it will test the entire word"
   ]
  },
  {
   "cell_type": "code",
   "execution_count": null,
   "metadata": {
    "slideshow": {
     "slide_type": "fragment"
    }
   },
   "outputs": [
    {
     "name": "stdout",
     "output_type": "stream",
     "text": [
      "True\n"
     ]
    }
   ],
   "source": [
    "list1 = [1,2,3,4]\n",
    "\n",
    "print( 1 in list1)"
   ]
  },
  {
   "cell_type": "code",
   "execution_count": null,
   "metadata": {
    "slideshow": {
     "slide_type": "fragment"
    }
   },
   "outputs": [
    {
     "name": "stdout",
     "output_type": "stream",
     "text": [
      "False\n"
     ]
    }
   ],
   "source": [
    "print(7 in list1)"
   ]
  },
  {
   "cell_type": "markdown",
   "metadata": {
    "slideshow": {
     "slide_type": "slide"
    }
   },
   "source": [
    "# List Operations\n",
    "\n",
    "* Adding and deleting items\n",
    "  * '+' is used to add lists together which means wrapping a value in a list is an easy way to add an item\n",
    "  * del s[i]: deletes the item from the list"
   ]
  },
  {
   "cell_type": "code",
   "execution_count": null,
   "metadata": {
    "slideshow": {
     "slide_type": "fragment"
    }
   },
   "outputs": [
    {
     "name": "stdout",
     "output_type": "stream",
     "text": [
      "[1, 3]\n"
     ]
    }
   ],
   "source": [
    "#create a list\n",
    "list1 = [1,2]\n",
    "\n",
    "#add an item\n",
    "\n",
    "list1 = list1 + [3]\n",
    "\n",
    "#delete an item, note that this doesn't need to be assigned to anything\n",
    "del list1[1]\n",
    "print (list1)"
   ]
  },
  {
   "cell_type": "markdown",
   "metadata": {
    "slideshow": {
     "slide_type": "slide"
    }
   },
   "source": [
    "# List Operations\n",
    "\n",
    "* One of Python's most powerful features is list slicing\n",
    "* Slicing with “:” is an easy way to access sub-lists\n",
    "* `s[i:j]` returns elements from s[i] to s[j-1]\n",
    "* Can also specify jumps with `s[i:j:k]`\n",
    "* You can also leave off an index to specify the beginning or end of the list\n",
    "  * `l[:3]` is the first 3 elements\n",
    "  * `l[1:]` is everything but the first element\n",
    "* Negative slice from the back of the list is also allowed"
   ]
  },
  {
   "cell_type": "code",
   "execution_count": null,
   "metadata": {
    "slideshow": {
     "slide_type": "fragment"
    }
   },
   "outputs": [
    {
     "name": "stdout",
     "output_type": "stream",
     "text": [
      "[1, 2, 3]\n"
     ]
    }
   ],
   "source": [
    "list1 = [1,2,3,4,5,6,7]\n",
    "\n",
    "#grab the first three elements\n",
    "print(list1[0:3])"
   ]
  },
  {
   "cell_type": "code",
   "execution_count": null,
   "metadata": {
    "slideshow": {
     "slide_type": "fragment"
    }
   },
   "outputs": [
    {
     "name": "stdout",
     "output_type": "stream",
     "text": [
      "[1, 3, 5, 7]\n"
     ]
    }
   ],
   "source": [
    "#get only the odd numbers\n",
    "print(list1[::2])"
   ]
  },
  {
   "cell_type": "markdown",
   "metadata": {
    "slideshow": {
     "slide_type": "slide"
    }
   },
   "source": [
    "# List Operations\n",
    "\n",
    "* Python also has a number of built-in functions (similar to how print prints what ever you pass it) that work on lists"
   ]
  },
  {
   "cell_type": "code",
   "execution_count": null,
   "metadata": {
    "slideshow": {
     "slide_type": "fragment"
    }
   },
   "outputs": [
    {
     "name": "stdout",
     "output_type": "stream",
     "text": [
      "max() finds the largest element: 6\n",
      "min() finds the smallest element: 1\n",
      "len() will tell how long the list is: 6\n",
      "sum() will add things together: 21\n"
     ]
    }
   ],
   "source": [
    "list1 = [1, 2, 3, 4, 5, 6]\n",
    "\n",
    "print(\"max() finds the largest element: %d\" % max(list1))\n",
    "print(\"min() finds the smallest element: %d\" % min(list1))\n",
    "print(\"len() will tell how long the list is: %d\" % len(list1))\n",
    "print(\"sum() will add things together: %d\" % sum(list1))"
   ]
  },
  {
   "cell_type": "markdown",
   "metadata": {
    "slideshow": {
     "slide_type": "slide"
    }
   },
   "source": [
    "* Remember to consider that min and max functions can operate oddly on mixed data"
   ]
  },
  {
   "cell_type": "markdown",
   "metadata": {
    "slideshow": {
     "slide_type": "slide"
    }
   },
   "source": [
    "#List Operations\n",
    "* Built-in List methods (Why are they called methods? We'll cover this later)\n",
    "* Accessed via putting a dot (.) at the end of a variable\n",
    "* A handy feature is that a number interpreters will show you the available methods\n",
    "* syntax `variable.method(<arguments>)`"
   ]
  },
  {
   "cell_type": "code",
   "execution_count": null,
   "metadata": {
    "slideshow": {
     "slide_type": "fragment"
    }
   },
   "outputs": [
    {
     "name": "stdout",
     "output_type": "stream",
     "text": [
      "[1, 2, 3, 4]\n"
     ]
    }
   ],
   "source": [
    "list1 = [1,2,3]\n",
    "#append() is the other way to add single elements to lists\n",
    "#Notice it modifies the list in place\n",
    "list1.append(4)\n",
    "print(list1)"
   ]
  },
  {
   "cell_type": "code",
   "execution_count": null,
   "metadata": {
    "slideshow": {
     "slide_type": "fragment"
    }
   },
   "outputs": [
    {
     "name": "stdout",
     "output_type": "stream",
     "text": [
      "4\n",
      "[1, 2, 3]\n"
     ]
    }
   ],
   "source": [
    "#pop() removes the last item, also it gives you that value\n",
    "first = list1.pop()\n",
    "\n",
    "print(first)\n",
    "print(list1)"
   ]
  },
  {
   "cell_type": "code",
   "execution_count": null,
   "metadata": {
    "slideshow": {
     "slide_type": "fragment"
    }
   },
   "outputs": [
    {
     "name": "stdout",
     "output_type": "stream",
     "text": [
      "[2, 3]\n"
     ]
    }
   ],
   "source": [
    "#remove() removes the first item with the given value\n",
    "list1.remove(1)\n",
    "print(list1)"
   ]
  },
  {
   "cell_type": "markdown",
   "metadata": {
    "slideshow": {
     "slide_type": "slide"
    }
   },
   "source": [
    "#List Utilities\n",
    "\n",
    "* Searching and Sorting\n",
    "  * Lists come with built in methods that allow easy searching and sorting of data\n",
    "  * Optimized, so no need to do this by hand\n",
    "* Sorts can be complicated depending on the data, but for numbers and strings it will work"
   ]
  },
  {
   "cell_type": "code",
   "execution_count": 4,
   "metadata": {
    "slideshow": {
     "slide_type": "fragment"
    }
   },
   "outputs": [
    {
     "name": "stdout",
     "output_type": "stream",
     "text": [
      "2\n"
     ]
    }
   ],
   "source": [
    "list1 = [1, 4, 3, 5, 2]\n",
    "\n",
    "#index() is the basic searching function.  It finds the first location of a value\n",
    "print(list1.index(3))"
   ]
  },
  {
   "cell_type": "code",
   "execution_count": null,
   "metadata": {
    "slideshow": {
     "slide_type": "fragment"
    }
   },
   "outputs": [
    {
     "name": "stdout",
     "output_type": "stream",
     "text": [
      "[1, 2, 3, 4, 5]\n",
      "[5, 4, 3, 2, 1]\n"
     ]
    }
   ],
   "source": [
    "#sort() is the basic sorting function, notice it works in place\n",
    "list1.sort()\n",
    "print(list1)\n",
    "#reverse() can be used to reverse the list.  Handy after sorting\n",
    "list1.reverse()\n",
    "print(list1)"
   ]
  },
  {
   "cell_type": "markdown",
   "metadata": {
    "slideshow": {
     "slide_type": "slide"
    }
   },
   "source": [
    "#Exercise 1\n",
    "\n",
    "1. Write program that prompts a user five times to enter a number.  Then creates a list, sorts the numbers and prints the two largest numbers. \n",
    "2. Given the list [1, 3, 4, 6, 8, 2, 5, 7], write a program that only prints the even numbers.\n",
    "3. Write a program that asks for 4 numbers and creates a list.  Then have a final prompt that prompts the user enter \"largest\" to remove the largest number or \"smallest\" smallest to remove the smallest number.\n",
    "4. Write a program like the first one, but that doesn't allow duplicate numbers to be entered.  Instead use the last number added to the list if they attempt a duplicate. Finally, just print the list."
   ]
  },
  {
   "cell_type": "markdown",
   "metadata": {
    "slideshow": {
     "slide_type": "subslide"
    }
   },
   "source": [
    "###Solution 1"
   ]
  },
  {
   "cell_type": "code",
   "execution_count": null,
   "metadata": {},
   "outputs": [
    {
     "name": "stdout",
     "output_type": "stream",
     "text": [
      "Enter 1st value: 1\n",
      "Enter 2nd value: 2\n",
      "Enter 3rd value: 3\n",
      "Enter 4th value: 4\n",
      "Enter 5th value: 5\n",
      "4\n",
      "5\n"
     ]
    }
   ],
   "source": [
    "#the simplest approach\n",
    "x1 = input(\"Enter 1st value: \")\n",
    "x2 = input(\"Enter 2nd value: \")\n",
    "x3 = input(\"Enter 3rd value: \")\n",
    "x4 = input(\"Enter 4th value: \")\n",
    "l = [int(x1)] + [int(x2)] + [int(x3)] + [int(x4)] \n",
    "\n",
    "#a more complex way to append\n",
    "l.append(int(input(\"Enter 5th value: \")))\n",
    "\n",
    "#sort the list\n",
    "l.sort()\n",
    "\n",
    "print (l[3])\n",
    "print (l[4])\n"
   ]
  },
  {
   "cell_type": "markdown",
   "metadata": {
    "slideshow": {
     "slide_type": "subslide"
    }
   },
   "source": [
    "###Solution 2"
   ]
  },
  {
   "cell_type": "code",
   "execution_count": null,
   "metadata": {},
   "outputs": [
    {
     "name": "stdout",
     "output_type": "stream",
     "text": [
      "[2, 4, 6, 8]\n"
     ]
    }
   ],
   "source": [
    "#simple solution\n",
    "l = [1, 3, 4, 6, 8, 2, 5, 7]\n",
    "\n",
    "#sort the list\n",
    "l.sort()\n",
    "\n",
    "#skip the odds\n",
    "evens = l[1::2]\n",
    "\n",
    "print(evens)\n",
    "\n"
   ]
  },
  {
   "cell_type": "markdown",
   "metadata": {
    "slideshow": {
     "slide_type": "subslide"
    }
   },
   "source": [
    "###Solution 3"
   ]
  },
  {
   "cell_type": "code",
   "execution_count": null,
   "metadata": {},
   "outputs": [],
   "source": [
    "x1 = input(\"Enter 1st value: \")\n",
    "x2 = input(\"Enter 2nd value: \")\n",
    "x3 = input(\"Enter 3rd value: \")\n",
    "x4 = input(\"Enter 4th value: \")\n",
    "l = [int(x1)] + [int(x2)] + [int(x3)] + [int(x4)] \n",
    "\n",
    "l.sort()\n",
    "\n",
    "end = input(\"Type largest or smallest: \")\n",
    "if end == 'largest':\n",
    "    print(l[-1])\n",
    "else:\n",
    "    print(l[0])\n"
   ]
  },
  {
   "cell_type": "markdown",
   "metadata": {},
   "source": [
    "###Solution 4"
   ]
  },
  {
   "cell_type": "code",
   "execution_count": null,
   "metadata": {
    "slideshow": {
     "slide_type": "subslide"
    }
   },
   "outputs": [],
   "source": [
    "x1 = input(\"Enter 1st value: \")\n",
    "\n",
    "l = [x1]\n",
    "lastVal = x1\n",
    "x2 = input(\"Enter 2nd value: \")\n",
    "if x2 in l:\n",
    "    l.append(lastVal)\n",
    "else:\n",
    "    l.append(x2)\n",
    "    lastVal = x2\n",
    "x3 = input(\"Enter 3rd value: \")\n",
    "if x3 in l:\n",
    "    l.append(lastVal)\n",
    "else:\n",
    "    l.append(x3)\n",
    "    lastVal = x3\n",
    "x4 = input(\"Enter 4th value: \")\n",
    "if x4 in l:\n",
    "    l.append(lastVal)\n",
    "else:\n",
    "    l.append(x4)\n",
    "    \n",
    "print(l)\n"
   ]
  },
  {
   "cell_type": "markdown",
   "metadata": {
    "slideshow": {
     "slide_type": "slide"
    }
   },
   "source": [
    "#Dictionaries\n",
    "\n",
    "* Dictionaries are unordered lists accessed via a key instead of an index\n",
    "* Keys can be almost anything, but are generally strings\n",
    "* Accessed via [key] notations\n",
    "  * `d[“key”]`\n",
    "* Created using the {}\n",
    "* You can specify key, value pairs at creation. However, it's a lot more readable to add values to an empty dictionary\n",
    "* Easier to add keys and values dynamically\n",
    "* Conversely, just use del to remove the key and value"
   ]
  },
  {
   "cell_type": "code",
   "execution_count": null,
   "metadata": {
    "scrolled": true,
    "slideshow": {
     "slide_type": "fragment"
    }
   },
   "outputs": [],
   "source": [
    "#create an empty dictionary\n",
    "dictionary = {}\n",
    "#add a value and key\n",
    "dictionary['name'] = 'Martin'\n",
    "dictionary['position'] = 'Instructor'\n",
    "\n",
    "#print one of the elements\n",
    "print(dictionary['name'])\n"
   ]
  },
  {
   "cell_type": "code",
   "execution_count": null,
   "metadata": {
    "slideshow": {
     "slide_type": "slide"
    }
   },
   "outputs": [],
   "source": [
    "#create by specifying a key/value pair manually\n",
    "dict2 = {'firstName': 'Martin', 'position':'Instructor'}\n",
    "\n",
    "#delete using the del keyword\n",
    "del dict2['position']\n",
    "\n",
    "print(dict2)"
   ]
  },
  {
   "cell_type": "markdown",
   "metadata": {
    "slideshow": {
     "slide_type": "slide"
    }
   },
   "source": [
    "#Dictionaries\n",
    "\n",
    "* Python handily provides a number of methods for dealing with dictionary keys\n",
    "* These make keys an easy way to store both data and data about the data"
   ]
  },
  {
   "cell_type": "code",
   "execution_count": null,
   "metadata": {
    "slideshow": {
     "slide_type": "fragment"
    }
   },
   "outputs": [],
   "source": [
    "dict1 = {'ipAddress': '192.168.1.1', 'hostName':'FileServer'}\n",
    "\n",
    "#use in to check if a key exists\n",
    "print ('hostName' in dict1)\n",
    "\n",
    "#keys() will also get you a list of keys\n",
    "print(dict1.keys())"
   ]
  },
  {
   "cell_type": "markdown",
   "metadata": {
    "slideshow": {
     "slide_type": "slide"
    }
   },
   "source": [
    "#Dictionaries\n",
    "\n",
    "* Dictionaries are a great way to store metadata about your data.\n",
    "* For example keys could be employee IDs or IP addresses\n",
    "* They can also be nested. Dictionaries of Lists are very common."
   ]
  },
  {
   "cell_type": "markdown",
   "metadata": {
    "slideshow": {
     "slide_type": "slide"
    }
   },
   "source": [
    "#Exercise 2\n",
    "\n",
    "1. Write a program that takes 2 numbers as input and stores them in a dictionary as 'smallest' and largest\n",
    "2. Write a program that asks people for their 'name', their 'quest', and their favorite 'color'.  Then it will let prompt them to select one to print out.\n",
    "3. Write a program that asks the air speed velocity of a swallow.  Allow the user to specify if it's african or european as a key."
   ]
  },
  {
   "cell_type": "markdown",
   "metadata": {
    "slideshow": {
     "slide_type": "subslide"
    }
   },
   "source": [
    "###Solution 1"
   ]
  },
  {
   "cell_type": "code",
   "execution_count": null,
   "metadata": {},
   "outputs": [],
   "source": [
    "x = float(input(\"Enter a number: \"))\n",
    "y = float(input(\"Enter a number: \"))\n",
    "\n",
    "if x > y:\n",
    "    d = {'smallest': y, 'largest': x}\n",
    "else:\n",
    "    d = {'smallest': x, 'largest': y}\n",
    "\n",
    "print(d)"
   ]
  },
  {
   "cell_type": "markdown",
   "metadata": {
    "slideshow": {
     "slide_type": "subslide"
    }
   },
   "source": [
    "###Solution 2"
   ]
  },
  {
   "cell_type": "code",
   "execution_count": null,
   "metadata": {},
   "outputs": [],
   "source": [
    "d= {}\n",
    "d['name'] = input('What is your name? ')\n",
    "d['quest'] = input('What is your quest? ')\n",
    "d['color'] = input('What is your favorite color')\n",
    "answer = input('which should I print')\n",
    "\n",
    "print (d[answer])"
   ]
  },
  {
   "cell_type": "markdown",
   "metadata": {
    "slideshow": {
     "slide_type": "subslide"
    }
   },
   "source": [
    "###Solution 3"
   ]
  },
  {
   "cell_type": "code",
   "execution_count": null,
   "metadata": {},
   "outputs": [],
   "source": [
    "d = {}\n",
    "a = input(\"What is the air speed velocity of a swallow? \")\n",
    "b = input('African or European? ')\n",
    "\n",
    "d[b] = a\n",
    "\n",
    "print(d)"
   ]
  },
  {
   "cell_type": "markdown",
   "metadata": {
    "slideshow": {
     "slide_type": "slide"
    }
   },
   "source": [
    "#Control Statement Continued\n",
    "\n",
    "* Loops are control structures that tell the computer to repeat some operation until a specific condition is met.\n",
    "* This is important because repetition is the primary point of scripting.\n",
    "* Python supports two types of loops, `for` and `while`."
   ]
  },
  {
   "cell_type": "markdown",
   "metadata": {
    "slideshow": {
     "slide_type": "slide"
    }
   },
   "source": [
    "#for Loops\n",
    "\n",
    "* For loops are used to take a finite number of items and iterate over them.\n",
    "* In plain english it basically means \"for each thing in a list of things, do this\"\n",
    "* For a number of older languages this was generally a counter 1, 2, 3... \n",
    "* Python however uses the concept of an iterable which makes these loops simpler to use"
   ]
  },
  {
   "cell_type": "markdown",
   "metadata": {
    "slideshow": {
     "slide_type": "fragment"
    }
   },
   "source": [
    "###Basic Syntax\n",
    "`For <item> in <iterable>: <do this and repeat with the next item>`\n",
    "\n",
    "###Basic Example"
   ]
  },
  {
   "cell_type": "code",
   "execution_count": null,
   "metadata": {
    "slideshow": {
     "slide_type": "fragment"
    }
   },
   "outputs": [],
   "source": [
    "numList = [1,2,3,4,5]\n",
    "for item in numList:\n",
    "    print(item)"
   ]
  },
  {
   "cell_type": "markdown",
   "metadata": {
    "slideshow": {
     "slide_type": "slide"
    }
   },
   "source": [
    "#for Loops\n",
    "\n",
    "* A slightly more complicated example"
   ]
  },
  {
   "cell_type": "code",
   "execution_count": null,
   "metadata": {},
   "outputs": [],
   "source": [
    "list1 = [1,2,3,4,5]\n",
    "total = 0\n",
    "#notice that only i changes in the loop\n",
    "for num in list1:\n",
    "    total += num\n",
    "    print(total)"
   ]
  },
  {
   "cell_type": "markdown",
   "metadata": {
    "slideshow": {
     "slide_type": "slide"
    }
   },
   "source": [
    "#for Loops\n",
    "\n",
    "* Note that the value pulled out for each iteration is a copy of the value in the list.\n",
    "* For example:"
   ]
  },
  {
   "cell_type": "code",
   "execution_count": 12,
   "metadata": {},
   "outputs": [
    {
     "name": "stdout",
     "output_type": "stream",
     "text": [
      "[1, 2, 3, 4, 5]\n"
     ]
    }
   ],
   "source": [
    "list1 = [1,2,3,4,5]\n",
    "\n",
    "#should this increase the values in l?\n",
    "for num in list1:\n",
    "    num += 1\n",
    "    \n",
    "print(list1)"
   ]
  },
  {
   "cell_type": "markdown",
   "metadata": {
    "slideshow": {
     "slide_type": "slide"
    }
   },
   "source": [
    "#for Loops\n",
    "* If you want to modify the list you'll need to create an iterable of indexes. \n",
    "* `range()` or `xrange()` both work\n",
    "* There is also something called a `map()` but it can be tricky(and awesome)."
   ]
  },
  {
   "cell_type": "code",
   "execution_count": null,
   "metadata": {},
   "outputs": [],
   "source": [
    "list1 = [1,2,3,4,5]\n",
    "#this will change the list\n",
    "for index in range(0, len(list1)):\n",
    "    list1[index] += 1\n",
    "    \n",
    "print (list1)"
   ]
  },
  {
   "cell_type": "markdown",
   "metadata": {},
   "source": [
    "#for Loops\n",
    "\n",
    "* Python uses a lot of `for` loops.  It's best to practice with them as often as possible"
   ]
  },
  {
   "cell_type": "markdown",
   "metadata": {
    "slideshow": {
     "slide_type": "slide"
    }
   },
   "source": [
    "#while Loops\n",
    "* For loops are good for looping a known amount of times.   While loops are used when you don't know how many times you'll need to do something.\n",
    "* For example traversing a data set and looking for a specific EOF mark or getting user input\n",
    "* Also useful if you want to loop infinitely(like webservers)"
   ]
  },
  {
   "cell_type": "markdown",
   "metadata": {
    "slideshow": {
     "slide_type": "fragment"
    }
   },
   "source": [
    "###Basic Syntax\n",
    "\n",
    "`while <something is true>: <do this and repeat>`\n",
    "\n",
    "###Basic Example"
   ]
  },
  {
   "cell_type": "code",
   "execution_count": null,
   "metadata": {
    "slideshow": {
     "slide_type": "fragment"
    }
   },
   "outputs": [],
   "source": [
    "x = 0\n",
    "#run the loop 5 times\n",
    "while x !=5:\n",
    "    print(x)\n",
    "    x+=1"
   ]
  },
  {
   "cell_type": "markdown",
   "metadata": {
    "slideshow": {
     "slide_type": "slide"
    }
   },
   "source": [
    "#while Loops\n",
    "\n",
    "* while loops can duplicate for loops"
   ]
  },
  {
   "cell_type": "code",
   "execution_count": null,
   "metadata": {},
   "outputs": [],
   "source": [
    "list1 = [1,2,3,4,5]\n",
    "counter = 0\n",
    "\n",
    "while counter < len(list1):\n",
    "    print(list1[counter])\n",
    "    counter += 1"
   ]
  },
  {
   "cell_type": "markdown",
   "metadata": {
    "slideshow": {
     "slide_type": "slide"
    }
   },
   "source": [
    "#while Loops\n",
    "\n",
    "* while loops are good for running until a value is found"
   ]
  },
  {
   "cell_type": "code",
   "execution_count": null,
   "metadata": {},
   "outputs": [],
   "source": [
    "value = ''\n",
    "\n",
    "while value != 'exit':\n",
    "    value = input(\"Enter a value(type exit to quit):\")\n",
    "    print(\"Entered %s\" % value)"
   ]
  },
  {
   "cell_type": "markdown",
   "metadata": {
    "slideshow": {
     "slide_type": "slide"
    }
   },
   "source": [
    "#while Loops\n",
    "\n",
    "* `while` loops can also be used to loop infinitely\n",
    "* We won't have an example for obvious reasons\n",
    "  * `while True: <something>`"
   ]
  },
  {
   "cell_type": "markdown",
   "metadata": {
    "slideshow": {
     "slide_type": "slide"
    }
   },
   "source": [
    "#break Statements\n",
    "\n",
    "* Sometimes it can be necessary to leave a function early.  The `break` keyword tells python to leave the current loop.\n",
    "* Only breaks out of the current loop\n",
    "* can be used in either `while` or `for` loops"
   ]
  },
  {
   "cell_type": "code",
   "execution_count": null,
   "metadata": {
    "slideshow": {
     "slide_type": "fragment"
    }
   },
   "outputs": [],
   "source": [
    "numList = [1,2,3,4,5]\n",
    "\n",
    "for item in numList:\n",
    "    print(item)\n",
    "    if item == 3:\n",
    "        break\n"
   ]
  },
  {
   "cell_type": "markdown",
   "metadata": {
    "slideshow": {
     "slide_type": "slide"
    }
   },
   "source": [
    "#Exercise 3\n",
    "\n",
    "1. Create a program that asks for an integer and outputs the sum of all the numbers between the number entered and 0.\n",
    "2. Create a program that initially asks for an exit word, then continues to ask for and repeat a word the user types until they type the exit word again\n",
    "3. Create a program that asks for words until the user types “done”.  Then writes all these words back as one sentence. "
   ]
  },
  {
   "cell_type": "markdown",
   "metadata": {},
   "source": [
    "###Solution 1"
   ]
  },
  {
   "cell_type": "code",
   "execution_count": null,
   "metadata": {
    "slideshow": {
     "slide_type": "subslide"
    }
   },
   "outputs": [],
   "source": [
    "\n",
    "num = input(\"Enter an integer: \")\n",
    "\n",
    "c = 0  #counter variable\n",
    "\n",
    "for i in range(0, int(num)):  #traverse the list\n",
    "    c += i  #add up the values\n",
    "\n",
    "print (c)"
   ]
  },
  {
   "cell_type": "markdown",
   "metadata": {
    "slideshow": {
     "slide_type": "subslide"
    }
   },
   "source": [
    "###Solution 2"
   ]
  },
  {
   "cell_type": "code",
   "execution_count": null,
   "metadata": {},
   "outputs": [],
   "source": [
    "stop = input(\"Enter Exit Word: \")  #get exit word\n",
    "\n",
    "value = None  #initialize value\n",
    "\n",
    "while value != stop:    #loop until we get a stop command\n",
    "    value = input(\"Enter A Word: \") #get anotehr value\n",
    "    print (value)\n",
    "\n",
    "print (\"Done\")"
   ]
  },
  {
   "cell_type": "markdown",
   "metadata": {
    "slideshow": {
     "slide_type": "subslide"
    }
   },
   "source": [
    "###Solution 3"
   ]
  },
  {
   "cell_type": "code",
   "execution_count": null,
   "metadata": {},
   "outputs": [],
   "source": [
    "l = []\n",
    "value = input(\"Enter a value: \")  #get an initial value\n",
    "\n",
    "while value != 'done':  #loop until done\n",
    "    l.append(value)     #add value to list\n",
    "    value = input(\"Enter a value: \")\n",
    "\n",
    "final = ''\n",
    "for i in l: #loop through the list to make the final output\n",
    "    final = final + \" \" + i\n",
    "\n",
    "print (final)"
   ]
  },
  {
   "cell_type": "markdown",
   "metadata": {
    "slideshow": {
     "slide_type": "slide"
    }
   },
   "source": [
    "#Functions\n",
    "\n",
    "* Functions are used to define snippets of code that are regularly re-used.\n",
    "* Also a handy way to organize stuff\n",
    "###Syntax:\n",
    "`def your_function_name(v1, v2, ...):<code> <return something>`\n",
    "\n",
    "* returns are optional"
   ]
  },
  {
   "cell_type": "code",
   "execution_count": null,
   "metadata": {
    "slideshow": {
     "slide_type": "fragment"
    }
   },
   "outputs": [],
   "source": [
    "def addList(list1, list2):\n",
    "    returnList = []\n",
    "    for index in range(0, min(len(list1), len(list2))):\n",
    "        returnList.append(list1[index]+ list2[index])\n",
    "    \n",
    "    return returnList\n",
    "\n",
    "a = [1,2]\n",
    "b= [3,4]\n",
    "\n",
    "print(addList(a,b))\n",
    "                   "
   ]
  },
  {
   "cell_type": "markdown",
   "metadata": {
    "slideshow": {
     "slide_type": "slide"
    }
   },
   "source": [
    "#Default Values\n",
    "\n",
    "*You can specify default values if they won't change much"
   ]
  },
  {
   "cell_type": "code",
   "execution_count": null,
   "metadata": {},
   "outputs": [],
   "source": [
    "def kittyCatString(string1, kittyString ='kitty!'):\n",
    "    return string1+kittyString\n",
    "\n",
    "print(kittyCatString('boring', kittyString=\"stringConcat\"))\n",
    "print(kittyCatString('soft'))\n"
   ]
  },
  {
   "cell_type": "markdown",
   "metadata": {
    "slideshow": {
     "slide_type": "slide"
    }
   },
   "source": [
    "#Functions\n",
    "\n",
    "* A note on variables passed to functions.\n",
    "* Variables passed to functions as arguments can't be changed in the functions\n",
    "* ...Except when they can.  Primitive types won't change value, but lists and dictionaries will\n",
    "* The moral is to be mindful about what what you do in functions"
   ]
  },
  {
   "cell_type": "markdown",
   "metadata": {
    "slideshow": {
     "slide_type": "slide"
    }
   },
   "source": [
    "#Recursive Functions\n",
    "\n",
    "* Recursion occurs when functions call themselves.\n",
    "* Generally it makes code hard to understand, but in certain cases it makes for concise codes.\n",
    "* Some problems are naturally recursive"
   ]
  },
  {
   "cell_type": "code",
   "execution_count": null,
   "metadata": {
    "slideshow": {
     "slide_type": "fragment"
    }
   },
   "outputs": [],
   "source": [
    "def factorial(value):\n",
    "    if value == 1:\n",
    "        return value\n",
    "    else:\n",
    "        return value * factorial(value - 1)\n",
    "\n",
    "print(factorial(5))"
   ]
  },
  {
   "cell_type": "code",
   "execution_count": null,
   "metadata": {},
   "outputs": [],
   "source": []
  },
  {
   "cell_type": "markdown",
   "metadata": {
    "slideshow": {
     "slide_type": "slide"
    }
   },
   "source": [
    "#Python Literacy Exercise\n",
    "\n",
    "##Tic-Tac-Toe\n",
    "We are going to review a program that lets two players enter their names and the play as many games as tic-tac-toe as the would like.  When they finish, print out the number of wins, losses, and draws each person had.\n",
    "\n",
    "One of the best ways to learn a programming language is to read the code that others' have written. Being able to make sense of the code is a great way to test your understanding, and can give you ideas on how to implement your own concepts."
   ]
  },
  {
   "cell_type": "code",
   "execution_count": null,
   "metadata": {
    "slideshow": {
     "slide_type": "subslide"
    }
   },
   "outputs": [],
   "source": [
    "players = {}\n",
    "\n",
    "\n",
    "def checkWinner(board):\n",
    "\n",
    "    #check for horizontal matches and return the value\n",
    "    verticalRows = [[], [], []]\n",
    "    \n",
    "    for row in board:\n",
    "        if row[0] == row[1] and row[2] == row[1]:\n",
    "            return row[0]\n",
    "\n",
    "        #build a list of the vertical rows\n",
    "        else:\n",
    "            verticalRows[0].append(row[0])\n",
    "            verticalRows[1].append(row[1])\n",
    "            verticalRows[2].append(row[2])\n",
    "\n",
    "    #traverse the vertical rows to check for matches\n",
    "    for row in verticalRows:\n",
    "        if row[0] == row[1] and row[2] == row[1]:\n",
    "            return row[0]\n",
    "\n",
    "    #edge cases for diagonals\n",
    "    if board[0][0] == board[1][1] and board[2][2] == board[1][1]:\n",
    "        return board[0][0]\n",
    "\n",
    "    if board[0][2] == board[1][1] and board[2][0] == board[1][1]:\n",
    "        return board[0][2]\n",
    "    \n",
    "    #no winner. return false\n",
    "    return False\n",
    "\n",
    "def checkDraw(board):\n",
    "\n",
    "    #set variable to assume it's draw\n",
    "    draw = True\n",
    "\n",
    "    #search board to see if we find open space\n",
    "    for row in board:\n",
    "        for i in row:\n",
    "            if i not in ['X', 'O']:\n",
    "                draw = False\n",
    "\n",
    "    return draw\n",
    "\n",
    "def printBoard(board):\n",
    "    #traverse through the board and print it\n",
    "    for row in board:\n",
    "        print (' ' + row[0] + \"|\" + row[1] + \"|\" + row[2])\n",
    "\n",
    "\n",
    "def singleGame(xName, oName):\n",
    "    turn = 'X'\n",
    "    gameOn = True\n",
    "    print (xName + \" is playing X\")\n",
    "    print (oName + \" is playing O\")\n",
    "    localBoard = [['1', '2', '3'], ['4', '5', '6'], ['7', '8', '9']]\n",
    "    while gameOn:\n",
    "\n",
    "        printBoard(localBoard)\n",
    "        play = int(raw_input(\"Enter a number player \" + turn + \": \"))\n",
    "\n",
    "        r = (play - 1) / 3\n",
    "        c = (play - 1) % 3\n",
    "\n",
    "        localBoard[r][c] = turn\n",
    "\n",
    "        winner = checkWinner(localBoard)\n",
    "        if winner == 'X':\n",
    "            return (xName, oName)\n",
    "        elif winner == 'O':\n",
    "            return (oName, xName)\n",
    "        elif checkDraw(localBoard):\n",
    "            return (\"Draw\", \"Draw\")\n",
    "        else:\n",
    "            if turn == 'X':\n",
    "                turn = 'O'\n",
    "            else:\n",
    "                turn = 'X'\n",
    "            \n",
    "xName = input(\"Enter Player X's Name: \")\n",
    "oName = input(\"Enter Player O's Name: \")\n",
    "\n",
    "players[xName] = {\"Wins\": 0, \"Losses\":0, \"Draws\":0}\n",
    "players[oName] = {\"Wins\": 0, \"Losses\":0, \"Draws\":0}\n",
    "\n",
    "value = \"\"\n",
    "\n",
    "while value != \"no\":\n",
    "    winner, loser = singleGame(xName, oName)\n",
    "\n",
    "    if winner != \"draw\":\n",
    "        players[winner]['Wins'] += 1\n",
    "        players[loser]['Losses'] += 1\n",
    "        print (\"The Winner is \" + winner)\n",
    "    else:\n",
    "        players[xName][\"Draws\"] += 1\n",
    "        players[oName][\"Draws\"] += 1\n",
    "\n",
    "    value = input(\"Play Again? (yes/no) \")\n",
    "\n",
    "print (\"Final Records\")\n",
    "print(\"%s %d-%d-%d\" % (xName, players[xName][\"Wins\"], players[xName][\"Losses\"], players[xName][\"Draws\"]))\n",
    "print (\"%s %d-%d-%d\" % (oName, players[oName][\"Wins\"], players[oName][\"Losses\"], players[oName][\"Draws\"]))"
   ]
  }
 ],
 "metadata": {
  "celltoolbar": "Slideshow",
  "kernelspec": {
   "display_name": "Python 3",
   "language": "python",
   "name": "python3"
  },
  "language_info": {
   "codemirror_mode": {
    "name": "ipython",
    "version": 3
   },
   "file_extension": ".py",
   "mimetype": "text/x-python",
   "name": "python",
   "nbconvert_exporter": "python",
   "pygments_lexer": "ipython3",
   "version": "3.6.5"
  }
 },
 "nbformat": 4,
 "nbformat_minor": 1
}
